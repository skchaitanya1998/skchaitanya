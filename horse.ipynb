{
 "cells": [
  {
   "cell_type": "code",
   "execution_count": 90,
   "metadata": {},
   "outputs": [],
   "source": [
    "import numpy as np\n",
    "import matplotlib.pyplot as plt\n",
    "import pandas as pd\n",
    "import seaborn as sns\n",
    "from sklearn.linear_model import LogisticRegression"
   ]
  },
  {
   "cell_type": "code",
   "execution_count": 91,
   "metadata": {},
   "outputs": [],
   "source": [
    "h=pd.read_csv(\"horse.csv\")"
   ]
  },
  {
   "cell_type": "code",
   "execution_count": 92,
   "metadata": {},
   "outputs": [
    {
     "data": {
      "text/html": [
       "<div>\n",
       "<style scoped>\n",
       "    .dataframe tbody tr th:only-of-type {\n",
       "        vertical-align: middle;\n",
       "    }\n",
       "\n",
       "    .dataframe tbody tr th {\n",
       "        vertical-align: top;\n",
       "    }\n",
       "\n",
       "    .dataframe thead th {\n",
       "        text-align: right;\n",
       "    }\n",
       "</style>\n",
       "<table border=\"1\" class=\"dataframe\">\n",
       "  <thead>\n",
       "    <tr style=\"text-align: right;\">\n",
       "      <th></th>\n",
       "      <th>surgery</th>\n",
       "      <th>age</th>\n",
       "      <th>hospital_number</th>\n",
       "      <th>rectal_temp</th>\n",
       "      <th>pulse</th>\n",
       "      <th>respiratory_rate</th>\n",
       "      <th>temp_of_extremities</th>\n",
       "      <th>peripheral_pulse</th>\n",
       "      <th>mucous_membrane</th>\n",
       "      <th>capillary_refill_time</th>\n",
       "      <th>...</th>\n",
       "      <th>packed_cell_volume</th>\n",
       "      <th>total_protein</th>\n",
       "      <th>abdomo_appearance</th>\n",
       "      <th>abdomo_protein</th>\n",
       "      <th>outcome</th>\n",
       "      <th>surgical_lesion</th>\n",
       "      <th>lesion_1</th>\n",
       "      <th>lesion_2</th>\n",
       "      <th>lesion_3</th>\n",
       "      <th>cp_data</th>\n",
       "    </tr>\n",
       "  </thead>\n",
       "  <tbody>\n",
       "    <tr>\n",
       "      <th>0</th>\n",
       "      <td>no</td>\n",
       "      <td>adult</td>\n",
       "      <td>530101</td>\n",
       "      <td>38.5</td>\n",
       "      <td>66.0</td>\n",
       "      <td>28.0</td>\n",
       "      <td>cool</td>\n",
       "      <td>reduced</td>\n",
       "      <td>NaN</td>\n",
       "      <td>more_3_sec</td>\n",
       "      <td>...</td>\n",
       "      <td>45.0</td>\n",
       "      <td>8.4</td>\n",
       "      <td>NaN</td>\n",
       "      <td>NaN</td>\n",
       "      <td>died</td>\n",
       "      <td>no</td>\n",
       "      <td>11300</td>\n",
       "      <td>0</td>\n",
       "      <td>0</td>\n",
       "      <td>no</td>\n",
       "    </tr>\n",
       "    <tr>\n",
       "      <th>1</th>\n",
       "      <td>yes</td>\n",
       "      <td>adult</td>\n",
       "      <td>534817</td>\n",
       "      <td>39.2</td>\n",
       "      <td>88.0</td>\n",
       "      <td>20.0</td>\n",
       "      <td>NaN</td>\n",
       "      <td>NaN</td>\n",
       "      <td>pale_cyanotic</td>\n",
       "      <td>less_3_sec</td>\n",
       "      <td>...</td>\n",
       "      <td>50.0</td>\n",
       "      <td>85.0</td>\n",
       "      <td>cloudy</td>\n",
       "      <td>2.0</td>\n",
       "      <td>euthanized</td>\n",
       "      <td>no</td>\n",
       "      <td>2208</td>\n",
       "      <td>0</td>\n",
       "      <td>0</td>\n",
       "      <td>no</td>\n",
       "    </tr>\n",
       "    <tr>\n",
       "      <th>2</th>\n",
       "      <td>no</td>\n",
       "      <td>adult</td>\n",
       "      <td>530334</td>\n",
       "      <td>38.3</td>\n",
       "      <td>40.0</td>\n",
       "      <td>24.0</td>\n",
       "      <td>normal</td>\n",
       "      <td>normal</td>\n",
       "      <td>pale_pink</td>\n",
       "      <td>less_3_sec</td>\n",
       "      <td>...</td>\n",
       "      <td>33.0</td>\n",
       "      <td>6.7</td>\n",
       "      <td>NaN</td>\n",
       "      <td>NaN</td>\n",
       "      <td>lived</td>\n",
       "      <td>no</td>\n",
       "      <td>0</td>\n",
       "      <td>0</td>\n",
       "      <td>0</td>\n",
       "      <td>yes</td>\n",
       "    </tr>\n",
       "    <tr>\n",
       "      <th>3</th>\n",
       "      <td>yes</td>\n",
       "      <td>young</td>\n",
       "      <td>5290409</td>\n",
       "      <td>39.1</td>\n",
       "      <td>164.0</td>\n",
       "      <td>84.0</td>\n",
       "      <td>cold</td>\n",
       "      <td>normal</td>\n",
       "      <td>dark_cyanotic</td>\n",
       "      <td>more_3_sec</td>\n",
       "      <td>...</td>\n",
       "      <td>48.0</td>\n",
       "      <td>7.2</td>\n",
       "      <td>serosanguious</td>\n",
       "      <td>5.3</td>\n",
       "      <td>died</td>\n",
       "      <td>yes</td>\n",
       "      <td>2208</td>\n",
       "      <td>0</td>\n",
       "      <td>0</td>\n",
       "      <td>yes</td>\n",
       "    </tr>\n",
       "    <tr>\n",
       "      <th>4</th>\n",
       "      <td>no</td>\n",
       "      <td>adult</td>\n",
       "      <td>530255</td>\n",
       "      <td>37.3</td>\n",
       "      <td>104.0</td>\n",
       "      <td>35.0</td>\n",
       "      <td>NaN</td>\n",
       "      <td>NaN</td>\n",
       "      <td>dark_cyanotic</td>\n",
       "      <td>more_3_sec</td>\n",
       "      <td>...</td>\n",
       "      <td>74.0</td>\n",
       "      <td>7.4</td>\n",
       "      <td>NaN</td>\n",
       "      <td>NaN</td>\n",
       "      <td>died</td>\n",
       "      <td>no</td>\n",
       "      <td>4300</td>\n",
       "      <td>0</td>\n",
       "      <td>0</td>\n",
       "      <td>no</td>\n",
       "    </tr>\n",
       "  </tbody>\n",
       "</table>\n",
       "<p>5 rows × 28 columns</p>\n",
       "</div>"
      ],
      "text/plain": [
       "  surgery    age  hospital_number  rectal_temp  pulse  respiratory_rate  \\\n",
       "0      no  adult           530101         38.5   66.0              28.0   \n",
       "1     yes  adult           534817         39.2   88.0              20.0   \n",
       "2      no  adult           530334         38.3   40.0              24.0   \n",
       "3     yes  young          5290409         39.1  164.0              84.0   \n",
       "4      no  adult           530255         37.3  104.0              35.0   \n",
       "\n",
       "  temp_of_extremities peripheral_pulse mucous_membrane capillary_refill_time  \\\n",
       "0                cool          reduced             NaN            more_3_sec   \n",
       "1                 NaN              NaN   pale_cyanotic            less_3_sec   \n",
       "2              normal           normal       pale_pink            less_3_sec   \n",
       "3                cold           normal   dark_cyanotic            more_3_sec   \n",
       "4                 NaN              NaN   dark_cyanotic            more_3_sec   \n",
       "\n",
       "    ...    packed_cell_volume total_protein abdomo_appearance abdomo_protein  \\\n",
       "0   ...                  45.0           8.4               NaN            NaN   \n",
       "1   ...                  50.0          85.0            cloudy            2.0   \n",
       "2   ...                  33.0           6.7               NaN            NaN   \n",
       "3   ...                  48.0           7.2     serosanguious            5.3   \n",
       "4   ...                  74.0           7.4               NaN            NaN   \n",
       "\n",
       "      outcome  surgical_lesion lesion_1 lesion_2  lesion_3  cp_data  \n",
       "0        died               no    11300        0         0       no  \n",
       "1  euthanized               no     2208        0         0       no  \n",
       "2       lived               no        0        0         0      yes  \n",
       "3        died              yes     2208        0         0      yes  \n",
       "4        died               no     4300        0         0       no  \n",
       "\n",
       "[5 rows x 28 columns]"
      ]
     },
     "execution_count": 92,
     "metadata": {},
     "output_type": "execute_result"
    }
   ],
   "source": [
    "h.head()"
   ]
  },
  {
   "cell_type": "code",
   "execution_count": 93,
   "metadata": {},
   "outputs": [
    {
     "data": {
      "text/plain": [
       "surgery                    0\n",
       "age                        0\n",
       "hospital_number            0\n",
       "rectal_temp               60\n",
       "pulse                     24\n",
       "respiratory_rate          58\n",
       "temp_of_extremities       56\n",
       "peripheral_pulse          69\n",
       "mucous_membrane           47\n",
       "capillary_refill_time     32\n",
       "pain                      55\n",
       "peristalsis               44\n",
       "abdominal_distention      56\n",
       "nasogastric_tube         104\n",
       "nasogastric_reflux       106\n",
       "nasogastric_reflux_ph    246\n",
       "rectal_exam_feces        102\n",
       "abdomen                  118\n",
       "packed_cell_volume        29\n",
       "total_protein             33\n",
       "abdomo_appearance        165\n",
       "abdomo_protein           198\n",
       "outcome                    0\n",
       "surgical_lesion            0\n",
       "lesion_1                   0\n",
       "lesion_2                   0\n",
       "lesion_3                   0\n",
       "cp_data                    0\n",
       "dtype: int64"
      ]
     },
     "execution_count": 93,
     "metadata": {},
     "output_type": "execute_result"
    }
   ],
   "source": [
    "h.isna().sum()"
   ]
  },
  {
   "cell_type": "code",
   "execution_count": 94,
   "metadata": {},
   "outputs": [
    {
     "data": {
      "text/plain": [
       "(299, 28)"
      ]
     },
     "execution_count": 94,
     "metadata": {},
     "output_type": "execute_result"
    }
   ],
   "source": [
    "h.shape"
   ]
  },
  {
   "cell_type": "code",
   "execution_count": 95,
   "metadata": {},
   "outputs": [
    {
     "data": {
      "text/plain": [
       "Index(['surgery', 'age', 'hospital_number', 'rectal_temp', 'pulse',\n",
       "       'respiratory_rate', 'temp_of_extremities', 'peripheral_pulse',\n",
       "       'mucous_membrane', 'capillary_refill_time', 'pain', 'peristalsis',\n",
       "       'abdominal_distention', 'nasogastric_tube', 'nasogastric_reflux',\n",
       "       'nasogastric_reflux_ph', 'rectal_exam_feces', 'abdomen',\n",
       "       'packed_cell_volume', 'total_protein', 'abdomo_appearance',\n",
       "       'abdomo_protein', 'outcome', 'surgical_lesion', 'lesion_1', 'lesion_2',\n",
       "       'lesion_3', 'cp_data'],\n",
       "      dtype='object')"
      ]
     },
     "execution_count": 95,
     "metadata": {},
     "output_type": "execute_result"
    }
   ],
   "source": [
    "h.columns"
   ]
  },
  {
   "cell_type": "code",
   "execution_count": 96,
   "metadata": {},
   "outputs": [],
   "source": [
    "h=h.drop(['nasogastric_reflux_ph'],axis=1)"
   ]
  },
  {
   "cell_type": "code",
   "execution_count": 97,
   "metadata": {},
   "outputs": [
    {
     "data": {
      "text/plain": [
       "Index(['surgery', 'age', 'hospital_number', 'rectal_temp', 'pulse',\n",
       "       'respiratory_rate', 'temp_of_extremities', 'peripheral_pulse',\n",
       "       'mucous_membrane', 'capillary_refill_time', 'pain', 'peristalsis',\n",
       "       'abdominal_distention', 'nasogastric_tube', 'nasogastric_reflux',\n",
       "       'rectal_exam_feces', 'abdomen', 'packed_cell_volume', 'total_protein',\n",
       "       'abdomo_appearance', 'abdomo_protein', 'outcome', 'surgical_lesion',\n",
       "       'lesion_1', 'lesion_2', 'lesion_3', 'cp_data'],\n",
       "      dtype='object')"
      ]
     },
     "execution_count": 97,
     "metadata": {},
     "output_type": "execute_result"
    }
   ],
   "source": [
    "h.columns"
   ]
  },
  {
   "cell_type": "code",
   "execution_count": 98,
   "metadata": {},
   "outputs": [
    {
     "data": {
      "text/plain": [
       "surgery                    0\n",
       "age                        0\n",
       "hospital_number            0\n",
       "rectal_temp               60\n",
       "pulse                     24\n",
       "respiratory_rate          58\n",
       "temp_of_extremities       56\n",
       "peripheral_pulse          69\n",
       "mucous_membrane           47\n",
       "capillary_refill_time     32\n",
       "pain                      55\n",
       "peristalsis               44\n",
       "abdominal_distention      56\n",
       "nasogastric_tube         104\n",
       "nasogastric_reflux       106\n",
       "rectal_exam_feces        102\n",
       "abdomen                  118\n",
       "packed_cell_volume        29\n",
       "total_protein             33\n",
       "abdomo_appearance        165\n",
       "abdomo_protein           198\n",
       "outcome                    0\n",
       "surgical_lesion            0\n",
       "lesion_1                   0\n",
       "lesion_2                   0\n",
       "lesion_3                   0\n",
       "cp_data                    0\n",
       "dtype: int64"
      ]
     },
     "execution_count": 98,
     "metadata": {},
     "output_type": "execute_result"
    }
   ],
   "source": [
    "h.isna().sum()"
   ]
  },
  {
   "cell_type": "code",
   "execution_count": 99,
   "metadata": {},
   "outputs": [],
   "source": [
    "h['temp_of_extremities']=h['temp_of_extremities'].replace(to_replace=np.nan, value=h['temp_of_extremities'].mode()[0])"
   ]
  },
  {
   "cell_type": "code",
   "execution_count": 100,
   "metadata": {},
   "outputs": [
    {
     "data": {
      "text/html": [
       "<div>\n",
       "<style scoped>\n",
       "    .dataframe tbody tr th:only-of-type {\n",
       "        vertical-align: middle;\n",
       "    }\n",
       "\n",
       "    .dataframe tbody tr th {\n",
       "        vertical-align: top;\n",
       "    }\n",
       "\n",
       "    .dataframe thead th {\n",
       "        text-align: right;\n",
       "    }\n",
       "</style>\n",
       "<table border=\"1\" class=\"dataframe\">\n",
       "  <thead>\n",
       "    <tr style=\"text-align: right;\">\n",
       "      <th></th>\n",
       "      <th>surgery</th>\n",
       "      <th>age</th>\n",
       "      <th>hospital_number</th>\n",
       "      <th>rectal_temp</th>\n",
       "      <th>pulse</th>\n",
       "      <th>respiratory_rate</th>\n",
       "      <th>temp_of_extremities</th>\n",
       "      <th>peripheral_pulse</th>\n",
       "      <th>mucous_membrane</th>\n",
       "      <th>capillary_refill_time</th>\n",
       "      <th>...</th>\n",
       "      <th>packed_cell_volume</th>\n",
       "      <th>total_protein</th>\n",
       "      <th>abdomo_appearance</th>\n",
       "      <th>abdomo_protein</th>\n",
       "      <th>outcome</th>\n",
       "      <th>surgical_lesion</th>\n",
       "      <th>lesion_1</th>\n",
       "      <th>lesion_2</th>\n",
       "      <th>lesion_3</th>\n",
       "      <th>cp_data</th>\n",
       "    </tr>\n",
       "  </thead>\n",
       "  <tbody>\n",
       "    <tr>\n",
       "      <th>0</th>\n",
       "      <td>no</td>\n",
       "      <td>adult</td>\n",
       "      <td>530101</td>\n",
       "      <td>38.5</td>\n",
       "      <td>66.0</td>\n",
       "      <td>28.0</td>\n",
       "      <td>cool</td>\n",
       "      <td>reduced</td>\n",
       "      <td>NaN</td>\n",
       "      <td>more_3_sec</td>\n",
       "      <td>...</td>\n",
       "      <td>45.0</td>\n",
       "      <td>8.4</td>\n",
       "      <td>NaN</td>\n",
       "      <td>NaN</td>\n",
       "      <td>died</td>\n",
       "      <td>no</td>\n",
       "      <td>11300</td>\n",
       "      <td>0</td>\n",
       "      <td>0</td>\n",
       "      <td>no</td>\n",
       "    </tr>\n",
       "    <tr>\n",
       "      <th>1</th>\n",
       "      <td>yes</td>\n",
       "      <td>adult</td>\n",
       "      <td>534817</td>\n",
       "      <td>39.2</td>\n",
       "      <td>88.0</td>\n",
       "      <td>20.0</td>\n",
       "      <td>cool</td>\n",
       "      <td>NaN</td>\n",
       "      <td>pale_cyanotic</td>\n",
       "      <td>less_3_sec</td>\n",
       "      <td>...</td>\n",
       "      <td>50.0</td>\n",
       "      <td>85.0</td>\n",
       "      <td>cloudy</td>\n",
       "      <td>2.0</td>\n",
       "      <td>euthanized</td>\n",
       "      <td>no</td>\n",
       "      <td>2208</td>\n",
       "      <td>0</td>\n",
       "      <td>0</td>\n",
       "      <td>no</td>\n",
       "    </tr>\n",
       "    <tr>\n",
       "      <th>2</th>\n",
       "      <td>no</td>\n",
       "      <td>adult</td>\n",
       "      <td>530334</td>\n",
       "      <td>38.3</td>\n",
       "      <td>40.0</td>\n",
       "      <td>24.0</td>\n",
       "      <td>normal</td>\n",
       "      <td>normal</td>\n",
       "      <td>pale_pink</td>\n",
       "      <td>less_3_sec</td>\n",
       "      <td>...</td>\n",
       "      <td>33.0</td>\n",
       "      <td>6.7</td>\n",
       "      <td>NaN</td>\n",
       "      <td>NaN</td>\n",
       "      <td>lived</td>\n",
       "      <td>no</td>\n",
       "      <td>0</td>\n",
       "      <td>0</td>\n",
       "      <td>0</td>\n",
       "      <td>yes</td>\n",
       "    </tr>\n",
       "    <tr>\n",
       "      <th>3</th>\n",
       "      <td>yes</td>\n",
       "      <td>young</td>\n",
       "      <td>5290409</td>\n",
       "      <td>39.1</td>\n",
       "      <td>164.0</td>\n",
       "      <td>84.0</td>\n",
       "      <td>cold</td>\n",
       "      <td>normal</td>\n",
       "      <td>dark_cyanotic</td>\n",
       "      <td>more_3_sec</td>\n",
       "      <td>...</td>\n",
       "      <td>48.0</td>\n",
       "      <td>7.2</td>\n",
       "      <td>serosanguious</td>\n",
       "      <td>5.3</td>\n",
       "      <td>died</td>\n",
       "      <td>yes</td>\n",
       "      <td>2208</td>\n",
       "      <td>0</td>\n",
       "      <td>0</td>\n",
       "      <td>yes</td>\n",
       "    </tr>\n",
       "    <tr>\n",
       "      <th>4</th>\n",
       "      <td>no</td>\n",
       "      <td>adult</td>\n",
       "      <td>530255</td>\n",
       "      <td>37.3</td>\n",
       "      <td>104.0</td>\n",
       "      <td>35.0</td>\n",
       "      <td>cool</td>\n",
       "      <td>NaN</td>\n",
       "      <td>dark_cyanotic</td>\n",
       "      <td>more_3_sec</td>\n",
       "      <td>...</td>\n",
       "      <td>74.0</td>\n",
       "      <td>7.4</td>\n",
       "      <td>NaN</td>\n",
       "      <td>NaN</td>\n",
       "      <td>died</td>\n",
       "      <td>no</td>\n",
       "      <td>4300</td>\n",
       "      <td>0</td>\n",
       "      <td>0</td>\n",
       "      <td>no</td>\n",
       "    </tr>\n",
       "  </tbody>\n",
       "</table>\n",
       "<p>5 rows × 27 columns</p>\n",
       "</div>"
      ],
      "text/plain": [
       "  surgery    age  hospital_number  rectal_temp  pulse  respiratory_rate  \\\n",
       "0      no  adult           530101         38.5   66.0              28.0   \n",
       "1     yes  adult           534817         39.2   88.0              20.0   \n",
       "2      no  adult           530334         38.3   40.0              24.0   \n",
       "3     yes  young          5290409         39.1  164.0              84.0   \n",
       "4      no  adult           530255         37.3  104.0              35.0   \n",
       "\n",
       "  temp_of_extremities peripheral_pulse mucous_membrane capillary_refill_time  \\\n",
       "0                cool          reduced             NaN            more_3_sec   \n",
       "1                cool              NaN   pale_cyanotic            less_3_sec   \n",
       "2              normal           normal       pale_pink            less_3_sec   \n",
       "3                cold           normal   dark_cyanotic            more_3_sec   \n",
       "4                cool              NaN   dark_cyanotic            more_3_sec   \n",
       "\n",
       "    ...   packed_cell_volume total_protein abdomo_appearance abdomo_protein  \\\n",
       "0   ...                 45.0           8.4               NaN            NaN   \n",
       "1   ...                 50.0          85.0            cloudy            2.0   \n",
       "2   ...                 33.0           6.7               NaN            NaN   \n",
       "3   ...                 48.0           7.2     serosanguious            5.3   \n",
       "4   ...                 74.0           7.4               NaN            NaN   \n",
       "\n",
       "      outcome surgical_lesion lesion_1  lesion_2  lesion_3 cp_data  \n",
       "0        died              no    11300         0         0      no  \n",
       "1  euthanized              no     2208         0         0      no  \n",
       "2       lived              no        0         0         0     yes  \n",
       "3        died             yes     2208         0         0     yes  \n",
       "4        died              no     4300         0         0      no  \n",
       "\n",
       "[5 rows x 27 columns]"
      ]
     },
     "execution_count": 100,
     "metadata": {},
     "output_type": "execute_result"
    }
   ],
   "source": [
    "h.head()"
   ]
  },
  {
   "cell_type": "code",
   "execution_count": 101,
   "metadata": {},
   "outputs": [],
   "source": [
    "nal=[\"rectal_temp\",\"pulse\",\"respiratory_rate\",\"temp_of_extremities\",\"peripheral_pulse\",\n",
    "     \"mucous_membrane\",\"capillary_refill_time\",\"pain\",\"peristalsis\",\"abdominal_distention\",\n",
    "     \"nasogastric_tube\",\"nasogastric_reflux\",\"rectal_exam_feces\",\n",
    "     \"abdomen\",\"packed_cell_volume\",\"total_protein\",\"abdomo_appearance\",\"abdomo_protein\"]\n",
    "for i in nal:\n",
    "    h[i]=h[i].fillna(value=h[i].mode()[0])"
   ]
  },
  {
   "cell_type": "code",
   "execution_count": 102,
   "metadata": {},
   "outputs": [
    {
     "data": {
      "text/html": [
       "<div>\n",
       "<style scoped>\n",
       "    .dataframe tbody tr th:only-of-type {\n",
       "        vertical-align: middle;\n",
       "    }\n",
       "\n",
       "    .dataframe tbody tr th {\n",
       "        vertical-align: top;\n",
       "    }\n",
       "\n",
       "    .dataframe thead th {\n",
       "        text-align: right;\n",
       "    }\n",
       "</style>\n",
       "<table border=\"1\" class=\"dataframe\">\n",
       "  <thead>\n",
       "    <tr style=\"text-align: right;\">\n",
       "      <th></th>\n",
       "      <th>surgery</th>\n",
       "      <th>age</th>\n",
       "      <th>hospital_number</th>\n",
       "      <th>rectal_temp</th>\n",
       "      <th>pulse</th>\n",
       "      <th>respiratory_rate</th>\n",
       "      <th>temp_of_extremities</th>\n",
       "      <th>peripheral_pulse</th>\n",
       "      <th>mucous_membrane</th>\n",
       "      <th>capillary_refill_time</th>\n",
       "      <th>...</th>\n",
       "      <th>packed_cell_volume</th>\n",
       "      <th>total_protein</th>\n",
       "      <th>abdomo_appearance</th>\n",
       "      <th>abdomo_protein</th>\n",
       "      <th>outcome</th>\n",
       "      <th>surgical_lesion</th>\n",
       "      <th>lesion_1</th>\n",
       "      <th>lesion_2</th>\n",
       "      <th>lesion_3</th>\n",
       "      <th>cp_data</th>\n",
       "    </tr>\n",
       "  </thead>\n",
       "  <tbody>\n",
       "    <tr>\n",
       "      <th>0</th>\n",
       "      <td>no</td>\n",
       "      <td>adult</td>\n",
       "      <td>530101</td>\n",
       "      <td>38.5</td>\n",
       "      <td>66.0</td>\n",
       "      <td>28.0</td>\n",
       "      <td>cool</td>\n",
       "      <td>reduced</td>\n",
       "      <td>normal_pink</td>\n",
       "      <td>more_3_sec</td>\n",
       "      <td>...</td>\n",
       "      <td>45.0</td>\n",
       "      <td>8.4</td>\n",
       "      <td>cloudy</td>\n",
       "      <td>2.0</td>\n",
       "      <td>died</td>\n",
       "      <td>no</td>\n",
       "      <td>11300</td>\n",
       "      <td>0</td>\n",
       "      <td>0</td>\n",
       "      <td>no</td>\n",
       "    </tr>\n",
       "    <tr>\n",
       "      <th>1</th>\n",
       "      <td>yes</td>\n",
       "      <td>adult</td>\n",
       "      <td>534817</td>\n",
       "      <td>39.2</td>\n",
       "      <td>88.0</td>\n",
       "      <td>20.0</td>\n",
       "      <td>cool</td>\n",
       "      <td>normal</td>\n",
       "      <td>pale_cyanotic</td>\n",
       "      <td>less_3_sec</td>\n",
       "      <td>...</td>\n",
       "      <td>50.0</td>\n",
       "      <td>85.0</td>\n",
       "      <td>cloudy</td>\n",
       "      <td>2.0</td>\n",
       "      <td>euthanized</td>\n",
       "      <td>no</td>\n",
       "      <td>2208</td>\n",
       "      <td>0</td>\n",
       "      <td>0</td>\n",
       "      <td>no</td>\n",
       "    </tr>\n",
       "    <tr>\n",
       "      <th>2</th>\n",
       "      <td>no</td>\n",
       "      <td>adult</td>\n",
       "      <td>530334</td>\n",
       "      <td>38.3</td>\n",
       "      <td>40.0</td>\n",
       "      <td>24.0</td>\n",
       "      <td>normal</td>\n",
       "      <td>normal</td>\n",
       "      <td>pale_pink</td>\n",
       "      <td>less_3_sec</td>\n",
       "      <td>...</td>\n",
       "      <td>33.0</td>\n",
       "      <td>6.7</td>\n",
       "      <td>cloudy</td>\n",
       "      <td>2.0</td>\n",
       "      <td>lived</td>\n",
       "      <td>no</td>\n",
       "      <td>0</td>\n",
       "      <td>0</td>\n",
       "      <td>0</td>\n",
       "      <td>yes</td>\n",
       "    </tr>\n",
       "    <tr>\n",
       "      <th>3</th>\n",
       "      <td>yes</td>\n",
       "      <td>young</td>\n",
       "      <td>5290409</td>\n",
       "      <td>39.1</td>\n",
       "      <td>164.0</td>\n",
       "      <td>84.0</td>\n",
       "      <td>cold</td>\n",
       "      <td>normal</td>\n",
       "      <td>dark_cyanotic</td>\n",
       "      <td>more_3_sec</td>\n",
       "      <td>...</td>\n",
       "      <td>48.0</td>\n",
       "      <td>7.2</td>\n",
       "      <td>serosanguious</td>\n",
       "      <td>5.3</td>\n",
       "      <td>died</td>\n",
       "      <td>yes</td>\n",
       "      <td>2208</td>\n",
       "      <td>0</td>\n",
       "      <td>0</td>\n",
       "      <td>yes</td>\n",
       "    </tr>\n",
       "    <tr>\n",
       "      <th>4</th>\n",
       "      <td>no</td>\n",
       "      <td>adult</td>\n",
       "      <td>530255</td>\n",
       "      <td>37.3</td>\n",
       "      <td>104.0</td>\n",
       "      <td>35.0</td>\n",
       "      <td>cool</td>\n",
       "      <td>normal</td>\n",
       "      <td>dark_cyanotic</td>\n",
       "      <td>more_3_sec</td>\n",
       "      <td>...</td>\n",
       "      <td>74.0</td>\n",
       "      <td>7.4</td>\n",
       "      <td>cloudy</td>\n",
       "      <td>2.0</td>\n",
       "      <td>died</td>\n",
       "      <td>no</td>\n",
       "      <td>4300</td>\n",
       "      <td>0</td>\n",
       "      <td>0</td>\n",
       "      <td>no</td>\n",
       "    </tr>\n",
       "  </tbody>\n",
       "</table>\n",
       "<p>5 rows × 27 columns</p>\n",
       "</div>"
      ],
      "text/plain": [
       "  surgery    age  hospital_number  rectal_temp  pulse  respiratory_rate  \\\n",
       "0      no  adult           530101         38.5   66.0              28.0   \n",
       "1     yes  adult           534817         39.2   88.0              20.0   \n",
       "2      no  adult           530334         38.3   40.0              24.0   \n",
       "3     yes  young          5290409         39.1  164.0              84.0   \n",
       "4      no  adult           530255         37.3  104.0              35.0   \n",
       "\n",
       "  temp_of_extremities peripheral_pulse mucous_membrane capillary_refill_time  \\\n",
       "0                cool          reduced     normal_pink            more_3_sec   \n",
       "1                cool           normal   pale_cyanotic            less_3_sec   \n",
       "2              normal           normal       pale_pink            less_3_sec   \n",
       "3                cold           normal   dark_cyanotic            more_3_sec   \n",
       "4                cool           normal   dark_cyanotic            more_3_sec   \n",
       "\n",
       "    ...   packed_cell_volume total_protein abdomo_appearance abdomo_protein  \\\n",
       "0   ...                 45.0           8.4            cloudy            2.0   \n",
       "1   ...                 50.0          85.0            cloudy            2.0   \n",
       "2   ...                 33.0           6.7            cloudy            2.0   \n",
       "3   ...                 48.0           7.2     serosanguious            5.3   \n",
       "4   ...                 74.0           7.4            cloudy            2.0   \n",
       "\n",
       "      outcome surgical_lesion lesion_1  lesion_2  lesion_3 cp_data  \n",
       "0        died              no    11300         0         0      no  \n",
       "1  euthanized              no     2208         0         0      no  \n",
       "2       lived              no        0         0         0     yes  \n",
       "3        died             yes     2208         0         0     yes  \n",
       "4        died              no     4300         0         0      no  \n",
       "\n",
       "[5 rows x 27 columns]"
      ]
     },
     "execution_count": 102,
     "metadata": {},
     "output_type": "execute_result"
    }
   ],
   "source": [
    "h.isna().sum()\n",
    "h.head()"
   ]
  },
  {
   "cell_type": "code",
   "execution_count": 103,
   "metadata": {},
   "outputs": [],
   "source": [
    "from sklearn import preprocessing\n",
    "\n",
    "categorical = ['surgery', 'age','rectal_temp', 'temp_of_extremities', 'peripheral_pulse',\n",
    "       'mucous_membrane', 'capillary_refill_time', 'pain', 'peristalsis',\n",
    "       'abdominal_distention', 'nasogastric_tube', 'nasogastric_reflux',\n",
    "       'rectal_exam_feces', 'abdomen',\n",
    "       'abdomo_appearance', 'outcome',\"surgical_lesion\"]\n",
    "for feature in categorical:\n",
    "        le = preprocessing.LabelEncoder()\n",
    "        h[feature] = le.fit_transform(h[feature])\n",
    "       "
   ]
  },
  {
   "cell_type": "code",
   "execution_count": 104,
   "metadata": {},
   "outputs": [
    {
     "data": {
      "text/plain": [
       "0    1\n",
       "1    1\n",
       "2    1\n",
       "3    2\n",
       "4    1\n",
       "Name: abdomo_appearance, dtype: int32"
      ]
     },
     "execution_count": 104,
     "metadata": {},
     "output_type": "execute_result"
    }
   ],
   "source": [
    "h[\"abdomo_appearance\"].head()"
   ]
  },
  {
   "cell_type": "code",
   "execution_count": 105,
   "metadata": {},
   "outputs": [
    {
     "data": {
      "text/html": [
       "<div>\n",
       "<style scoped>\n",
       "    .dataframe tbody tr th:only-of-type {\n",
       "        vertical-align: middle;\n",
       "    }\n",
       "\n",
       "    .dataframe tbody tr th {\n",
       "        vertical-align: top;\n",
       "    }\n",
       "\n",
       "    .dataframe thead th {\n",
       "        text-align: right;\n",
       "    }\n",
       "</style>\n",
       "<table border=\"1\" class=\"dataframe\">\n",
       "  <thead>\n",
       "    <tr style=\"text-align: right;\">\n",
       "      <th></th>\n",
       "      <th>surgery</th>\n",
       "      <th>age</th>\n",
       "      <th>hospital_number</th>\n",
       "      <th>rectal_temp</th>\n",
       "      <th>pulse</th>\n",
       "      <th>respiratory_rate</th>\n",
       "      <th>temp_of_extremities</th>\n",
       "      <th>peripheral_pulse</th>\n",
       "      <th>mucous_membrane</th>\n",
       "      <th>capillary_refill_time</th>\n",
       "      <th>...</th>\n",
       "      <th>packed_cell_volume</th>\n",
       "      <th>total_protein</th>\n",
       "      <th>abdomo_appearance</th>\n",
       "      <th>abdomo_protein</th>\n",
       "      <th>outcome</th>\n",
       "      <th>surgical_lesion</th>\n",
       "      <th>lesion_1</th>\n",
       "      <th>lesion_2</th>\n",
       "      <th>lesion_3</th>\n",
       "      <th>cp_data</th>\n",
       "    </tr>\n",
       "  </thead>\n",
       "  <tbody>\n",
       "    <tr>\n",
       "      <th>0</th>\n",
       "      <td>0</td>\n",
       "      <td>0</td>\n",
       "      <td>530101</td>\n",
       "      <td>23</td>\n",
       "      <td>66.0</td>\n",
       "      <td>28.0</td>\n",
       "      <td>1</td>\n",
       "      <td>3</td>\n",
       "      <td>3</td>\n",
       "      <td>2</td>\n",
       "      <td>...</td>\n",
       "      <td>45.0</td>\n",
       "      <td>8.4</td>\n",
       "      <td>1</td>\n",
       "      <td>2.0</td>\n",
       "      <td>0</td>\n",
       "      <td>0</td>\n",
       "      <td>11300</td>\n",
       "      <td>0</td>\n",
       "      <td>0</td>\n",
       "      <td>no</td>\n",
       "    </tr>\n",
       "    <tr>\n",
       "      <th>1</th>\n",
       "      <td>1</td>\n",
       "      <td>0</td>\n",
       "      <td>534817</td>\n",
       "      <td>30</td>\n",
       "      <td>88.0</td>\n",
       "      <td>20.0</td>\n",
       "      <td>1</td>\n",
       "      <td>2</td>\n",
       "      <td>4</td>\n",
       "      <td>1</td>\n",
       "      <td>...</td>\n",
       "      <td>50.0</td>\n",
       "      <td>85.0</td>\n",
       "      <td>1</td>\n",
       "      <td>2.0</td>\n",
       "      <td>1</td>\n",
       "      <td>0</td>\n",
       "      <td>2208</td>\n",
       "      <td>0</td>\n",
       "      <td>0</td>\n",
       "      <td>no</td>\n",
       "    </tr>\n",
       "    <tr>\n",
       "      <th>2</th>\n",
       "      <td>0</td>\n",
       "      <td>0</td>\n",
       "      <td>530334</td>\n",
       "      <td>21</td>\n",
       "      <td>40.0</td>\n",
       "      <td>24.0</td>\n",
       "      <td>2</td>\n",
       "      <td>2</td>\n",
       "      <td>5</td>\n",
       "      <td>1</td>\n",
       "      <td>...</td>\n",
       "      <td>33.0</td>\n",
       "      <td>6.7</td>\n",
       "      <td>1</td>\n",
       "      <td>2.0</td>\n",
       "      <td>2</td>\n",
       "      <td>0</td>\n",
       "      <td>0</td>\n",
       "      <td>0</td>\n",
       "      <td>0</td>\n",
       "      <td>yes</td>\n",
       "    </tr>\n",
       "    <tr>\n",
       "      <th>3</th>\n",
       "      <td>1</td>\n",
       "      <td>1</td>\n",
       "      <td>5290409</td>\n",
       "      <td>29</td>\n",
       "      <td>164.0</td>\n",
       "      <td>84.0</td>\n",
       "      <td>0</td>\n",
       "      <td>2</td>\n",
       "      <td>2</td>\n",
       "      <td>2</td>\n",
       "      <td>...</td>\n",
       "      <td>48.0</td>\n",
       "      <td>7.2</td>\n",
       "      <td>2</td>\n",
       "      <td>5.3</td>\n",
       "      <td>0</td>\n",
       "      <td>1</td>\n",
       "      <td>2208</td>\n",
       "      <td>0</td>\n",
       "      <td>0</td>\n",
       "      <td>yes</td>\n",
       "    </tr>\n",
       "    <tr>\n",
       "      <th>4</th>\n",
       "      <td>0</td>\n",
       "      <td>0</td>\n",
       "      <td>530255</td>\n",
       "      <td>11</td>\n",
       "      <td>104.0</td>\n",
       "      <td>35.0</td>\n",
       "      <td>1</td>\n",
       "      <td>2</td>\n",
       "      <td>2</td>\n",
       "      <td>2</td>\n",
       "      <td>...</td>\n",
       "      <td>74.0</td>\n",
       "      <td>7.4</td>\n",
       "      <td>1</td>\n",
       "      <td>2.0</td>\n",
       "      <td>0</td>\n",
       "      <td>0</td>\n",
       "      <td>4300</td>\n",
       "      <td>0</td>\n",
       "      <td>0</td>\n",
       "      <td>no</td>\n",
       "    </tr>\n",
       "  </tbody>\n",
       "</table>\n",
       "<p>5 rows × 27 columns</p>\n",
       "</div>"
      ],
      "text/plain": [
       "   surgery  age  hospital_number  rectal_temp  pulse  respiratory_rate  \\\n",
       "0        0    0           530101           23   66.0              28.0   \n",
       "1        1    0           534817           30   88.0              20.0   \n",
       "2        0    0           530334           21   40.0              24.0   \n",
       "3        1    1          5290409           29  164.0              84.0   \n",
       "4        0    0           530255           11  104.0              35.0   \n",
       "\n",
       "   temp_of_extremities  peripheral_pulse  mucous_membrane  \\\n",
       "0                    1                 3                3   \n",
       "1                    1                 2                4   \n",
       "2                    2                 2                5   \n",
       "3                    0                 2                2   \n",
       "4                    1                 2                2   \n",
       "\n",
       "   capillary_refill_time   ...     packed_cell_volume  total_protein  \\\n",
       "0                      2   ...                   45.0            8.4   \n",
       "1                      1   ...                   50.0           85.0   \n",
       "2                      1   ...                   33.0            6.7   \n",
       "3                      2   ...                   48.0            7.2   \n",
       "4                      2   ...                   74.0            7.4   \n",
       "\n",
       "   abdomo_appearance  abdomo_protein  outcome  surgical_lesion  lesion_1  \\\n",
       "0                  1             2.0        0                0     11300   \n",
       "1                  1             2.0        1                0      2208   \n",
       "2                  1             2.0        2                0         0   \n",
       "3                  2             5.3        0                1      2208   \n",
       "4                  1             2.0        0                0      4300   \n",
       "\n",
       "   lesion_2  lesion_3  cp_data  \n",
       "0         0         0       no  \n",
       "1         0         0       no  \n",
       "2         0         0      yes  \n",
       "3         0         0      yes  \n",
       "4         0         0       no  \n",
       "\n",
       "[5 rows x 27 columns]"
      ]
     },
     "execution_count": 105,
     "metadata": {},
     "output_type": "execute_result"
    }
   ],
   "source": [
    "h.head()"
   ]
  },
  {
   "cell_type": "code",
   "execution_count": 106,
   "metadata": {},
   "outputs": [
    {
     "data": {
      "image/png": "[encoded data removed]",
      "text/plain": [
       "<Figure size 432x288 with 1 Axes>"
      ]
     },
     "metadata": {
      "needs_background": "light"
     },
     "output_type": "display_data"
    },
    {
     "data": {
      "image/png": "[encoded data removed]",
      "text/plain": [
       "<Figure size 432x288 with 1 Axes>"
      ]
     },
     "metadata": {
      "needs_background": "light"
     },
     "output_type": "display_data"
    },
    {
     "data": {
      "image/png": "[encoded data removed]",
      "text/plain": [
       "<Figure size 432x288 with 1 Axes>"
      ]
     },
     "metadata": {
      "needs_background": "light"
     },
     "output_type": "display_data"
    },
    {
     "data": {
      "image/png": "[encoded data removed]",
      "text/plain": [
       "<Figure size 432x288 with 1 Axes>"
      ]
     },
     "metadata": {
      "needs_background": "light"
     },
     "output_type": "display_data"
    },
    {
     "data": {
      "image/png": "[encoded data removed]",
      "text/plain": [
       "<Figure size 432x288 with 1 Axes>"
      ]
     },
     "metadata": {
      "needs_background": "light"
     },
     "output_type": "display_data"
    },
    {
     "data": {
      "image/png": "[encoded data removed]",
      "text/plain": [
       "<Figure size 432x288 with 1 Axes>"
      ]
     },
     "metadata": {
      "needs_background": "light"
     },
     "output_type": "display_data"
    }
   ],
   "source": [
    "a=[\"rectal_temp\",\"pulse\",\"respiratory_rate\",\"packed_cell_volume\",\"total_protein\",\"lesion_1\"]\n",
    "for i in a:\n",
    "    plt.boxplot(h[i])\n",
    "    plt.show()"
   ]
  },
  {
   "cell_type": "code",
   "execution_count": 107,
   "metadata": {},
   "outputs": [
    {
     "data": {
      "image/png": "[encoded data removed]",
      "text/plain": [
       "<Figure size 432x288 with 1 Axes>"
      ]
     },
     "metadata": {
      "needs_background": "light"
     },
     "output_type": "display_data"
    },
    {
     "data": {
      "image/png": "[encoded data removed]",
      "text/plain": [
       "<Figure size 432x288 with 1 Axes>"
      ]
     },
     "metadata": {
      "needs_background": "light"
     },
     "output_type": "display_data"
    },
    {
     "data": {
      "image/png": "[encoded data removed]",
      "text/plain": [
       "<Figure size 432x288 with 1 Axes>"
      ]
     },
     "metadata": {
      "needs_background": "light"
     },
     "output_type": "display_data"
    },
    {
     "data": {
      "image/png": "[encoded data removed]",
      "text/plain": [
       "<Figure size 432x288 with 1 Axes>"
      ]
     },
     "metadata": {
      "needs_background": "light"
     },
     "output_type": "display_data"
    },
    {
     "data": {
      "image/png": "[encoded data removed]",
      "text/plain": [
       "<Figure size 432x288 with 1 Axes>"
      ]
     },
     "metadata": {
      "needs_background": "light"
     },
     "output_type": "display_data"
    },
    {
     "data": {
      "image/png": "[encoded data removed]",
      "text/plain": [
       "<Figure size 432x288 with 1 Axes>"
      ]
     },
     "metadata": {
      "needs_background": "light"
     },
     "output_type": "display_data"
    },
    {
     "data": {
      "image/png": "[encoded data removed]",
      "text/plain": [
       "<Figure size 432x288 with 1 Axes>"
      ]
     },
     "metadata": {
      "needs_background": "light"
     },
     "output_type": "display_data"
    },
    {
     "data": {
      "image/png": "[encoded data removed]",
      "text/plain": [
       "<Figure size 432x288 with 1 Axes>"
      ]
     },
     "metadata": {
      "needs_background": "light"
     },
     "output_type": "display_data"
    },
    {
     "data": {
      "image/png": "[encoded data removed]",
      "text/plain": [
       "<Figure size 432x288 with 1 Axes>"
      ]
     },
     "metadata": {
      "needs_background": "light"
     },
     "output_type": "display_data"
    },
    {
     "data": {
      "image/png": "[encoded data removed]",
      "text/plain": [
       "<Figure size 432x288 with 1 Axes>"
      ]
     },
     "metadata": {
      "needs_background": "light"
     },
     "output_type": "display_data"
    },
    {
     "data": {
      "image/png": "[encoded data removed]",
      "text/plain": [
       "<Figure size 432x288 with 1 Axes>"
      ]
     },
     "metadata": {
      "needs_background": "light"
     },
     "output_type": "display_data"
    },
    {
     "data": {
      "image/png": "[encoded data removed]",
      "text/plain": [
       "<Figure size 432x288 with 1 Axes>"
      ]
     },
     "metadata": {
      "needs_background": "light"
     },
     "output_type": "display_data"
    },
    {
     "data": {
      "image/png": "[encoded data removed]",
      "text/plain": [
       "<Figure size 432x288 with 1 Axes>"
      ]
     },
     "metadata": {
      "needs_background": "light"
     },
     "output_type": "display_data"
    },
    {
     "data": {
      "image/png": "[encoded data removed]",
      "text/plain": [
       "<Figure size 432x288 with 1 Axes>"
      ]
     },
     "metadata": {
      "needs_background": "light"
     },
     "output_type": "display_data"
    },
    {
     "data": {
      "image/png": "[encoded data removed]",
      "text/plain": [
       "<Figure size 432x288 with 1 Axes>"
      ]
     },
     "metadata": {
      "needs_background": "light"
     },
     "output_type": "display_data"
    },
    {
     "data": {
      "image/png": "[encoded data removed]",
      "text/plain": [
       "<Figure size 432x288 with 1 Axes>"
      ]
     },
     "metadata": {
      "needs_background": "light"
     },
     "output_type": "display_data"
    },
    {
     "data": {
      "image/png": "[encoded data removed]",
      "text/plain": [
       "<Figure size 432x288 with 1 Axes>"
      ]
     },
     "metadata": {
      "needs_background": "light"
     },
     "output_type": "display_data"
    },
    {
     "data": {
      "image/png": "[encoded data removed]",
      "text/plain": [
       "<Figure size 432x288 with 1 Axes>"
      ]
     },
     "metadata": {
      "needs_background": "light"
     },
     "output_type": "display_data"
    },
    {
     "data": {
      "image/png": "[encoded data removed]",
      "text/plain": [
       "<Figure size 432x288 with 1 Axes>"
      ]
     },
     "metadata": {
      "needs_background": "light"
     },
     "output_type": "display_data"
    },
    {
     "data": {
      "image/png": "[encoded data removed]",
      "text/plain": [
       "<Figure size 432x288 with 1 Axes>"
      ]
     },
     "metadata": {
      "needs_background": "light"
     },
     "output_type": "display_data"
    },
    {
     "data": {
      "image/png": "[encoded data removed]",
      "text/plain": [
       "<Figure size 432x288 with 1 Axes>"
      ]
     },
     "metadata": {
      "needs_background": "light"
     },
     "output_type": "display_data"
    },
    {
     "data": {
      "image/png": "[encoded data removed]",
      "text/plain": [
       "<Figure size 432x288 with 1 Axes>"
      ]
     },
     "metadata": {
      "needs_background": "light"
     },
     "output_type": "display_data"
    },
    {
     "data": {
      "image/png": "[encoded data removed]",
      "text/plain": [
       "<Figure size 432x288 with 1 Axes>"
      ]
     },
     "metadata": {
      "needs_background": "light"
     },
     "output_type": "display_data"
    },
    {
     "data": {
      "image/png": "[encoded data removed]",
      "text/plain": [
       "<Figure size 432x288 with 1 Axes>"
      ]
     },
     "metadata": {
      "needs_background": "light"
     },
     "output_type": "display_data"
    },
    {
     "data": {
      "image/png": "[encoded data removed]",
      "text/plain": [
       "<Figure size 432x288 with 1 Axes>"
      ]
     },
     "metadata": {
      "needs_background": "light"
     },
     "output_type": "display_data"
    },
    {
     "data": {
      "image/png": "[encoded data removed]",
      "text/plain": [
       "<Figure size 432x288 with 1 Axes>"
      ]
     },
     "metadata": {
      "needs_background": "light"
     },
     "output_type": "display_data"
    },
    {
     "data": {
      "image/png": "[encoded data removed]",
      "text/plain": [
       "<Figure size 432x288 with 1 Axes>"
      ]
     },
     "metadata": {
      "needs_background": "light"
     },
     "output_type": "display_data"
    }
   ],
   "source": [
    "for j in h.columns:\n",
    "    plt.scatter(x=h[j],y=h[\"outcome\"])\n",
    "    plt.show()"
   ]
  },
  {
   "cell_type": "code",
   "execution_count": 108,
   "metadata": {},
   "outputs": [
    {
     "data": {
      "text/plain": [
       "0.7157190635451505"
      ]
     },
     "execution_count": 108,
     "metadata": {},
     "output_type": "execute_result"
    }
   ],
   "source": [
    "from sklearn.ensemble import AdaBoostClassifier\n",
    "model=AdaBoostClassifier(n_estimators=10)\n",
    "x=h[['surgery', 'age', 'hospital_number', 'rectal_temp', 'pulse',\n",
    "       'respiratory_rate', 'temp_of_extremities', 'peripheral_pulse',\n",
    "       'mucous_membrane', 'capillary_refill_time', 'pain', 'peristalsis',\n",
    "       'abdominal_distention', 'nasogastric_tube', 'nasogastric_reflux',\n",
    "       'rectal_exam_feces', 'abdomen', 'packed_cell_volume', 'total_protein',\n",
    "       'abdomo_appearance', 'abdomo_protein', 'surgical_lesion',\n",
    "       'lesion_1', 'lesion_2', 'lesion_3']]\n",
    "y=h['outcome']\n",
    "model.fit(x,y)\n",
    "model.score(x,y)"
   ]
  },
  {
   "cell_type": "code",
   "execution_count": 109,
   "metadata": {},
   "outputs": [
    {
     "data": {
      "text/html": [
       "<div>\n",
       "<style scoped>\n",
       "    .dataframe tbody tr th:only-of-type {\n",
       "        vertical-align: middle;\n",
       "    }\n",
       "\n",
       "    .dataframe tbody tr th {\n",
       "        vertical-align: top;\n",
       "    }\n",
       "\n",
       "    .dataframe thead th {\n",
       "        text-align: right;\n",
       "    }\n",
       "</style>\n",
       "<table border=\"1\" class=\"dataframe\">\n",
       "  <thead>\n",
       "    <tr style=\"text-align: right;\">\n",
       "      <th></th>\n",
       "      <th>0</th>\n",
       "      <th>1</th>\n",
       "    </tr>\n",
       "  </thead>\n",
       "  <tbody>\n",
       "    <tr>\n",
       "      <th>0</th>\n",
       "      <td>surgery</td>\n",
       "      <td>0.2</td>\n",
       "    </tr>\n",
       "    <tr>\n",
       "      <th>2</th>\n",
       "      <td>hospital_number</td>\n",
       "      <td>0.2</td>\n",
       "    </tr>\n",
       "    <tr>\n",
       "      <th>17</th>\n",
       "      <td>packed_cell_volume</td>\n",
       "      <td>0.2</td>\n",
       "    </tr>\n",
       "    <tr>\n",
       "      <th>22</th>\n",
       "      <td>surgical_lesion</td>\n",
       "      <td>0.1</td>\n",
       "    </tr>\n",
       "    <tr>\n",
       "      <th>6</th>\n",
       "      <td>temp_of_extremities</td>\n",
       "      <td>0.1</td>\n",
       "    </tr>\n",
       "    <tr>\n",
       "      <th>7</th>\n",
       "      <td>peripheral_pulse</td>\n",
       "      <td>0.1</td>\n",
       "    </tr>\n",
       "    <tr>\n",
       "      <th>18</th>\n",
       "      <td>total_protein</td>\n",
       "      <td>0.1</td>\n",
       "    </tr>\n",
       "    <tr>\n",
       "      <th>14</th>\n",
       "      <td>nasogastric_reflux</td>\n",
       "      <td>0</td>\n",
       "    </tr>\n",
       "    <tr>\n",
       "      <th>23</th>\n",
       "      <td>lesion_1</td>\n",
       "      <td>0</td>\n",
       "    </tr>\n",
       "    <tr>\n",
       "      <th>21</th>\n",
       "      <td>outcome</td>\n",
       "      <td>0</td>\n",
       "    </tr>\n",
       "    <tr>\n",
       "      <th>20</th>\n",
       "      <td>abdomo_protein</td>\n",
       "      <td>0</td>\n",
       "    </tr>\n",
       "    <tr>\n",
       "      <th>19</th>\n",
       "      <td>abdomo_appearance</td>\n",
       "      <td>0</td>\n",
       "    </tr>\n",
       "    <tr>\n",
       "      <th>16</th>\n",
       "      <td>abdomen</td>\n",
       "      <td>0</td>\n",
       "    </tr>\n",
       "    <tr>\n",
       "      <th>15</th>\n",
       "      <td>rectal_exam_feces</td>\n",
       "      <td>0</td>\n",
       "    </tr>\n",
       "    <tr>\n",
       "      <th>12</th>\n",
       "      <td>abdominal_distention</td>\n",
       "      <td>0</td>\n",
       "    </tr>\n",
       "    <tr>\n",
       "      <th>13</th>\n",
       "      <td>nasogastric_tube</td>\n",
       "      <td>0</td>\n",
       "    </tr>\n",
       "    <tr>\n",
       "      <th>1</th>\n",
       "      <td>age</td>\n",
       "      <td>0</td>\n",
       "    </tr>\n",
       "    <tr>\n",
       "      <th>11</th>\n",
       "      <td>peristalsis</td>\n",
       "      <td>0</td>\n",
       "    </tr>\n",
       "    <tr>\n",
       "      <th>10</th>\n",
       "      <td>pain</td>\n",
       "      <td>0</td>\n",
       "    </tr>\n",
       "    <tr>\n",
       "      <th>9</th>\n",
       "      <td>capillary_refill_time</td>\n",
       "      <td>0</td>\n",
       "    </tr>\n",
       "    <tr>\n",
       "      <th>8</th>\n",
       "      <td>mucous_membrane</td>\n",
       "      <td>0</td>\n",
       "    </tr>\n",
       "    <tr>\n",
       "      <th>5</th>\n",
       "      <td>respiratory_rate</td>\n",
       "      <td>0</td>\n",
       "    </tr>\n",
       "    <tr>\n",
       "      <th>4</th>\n",
       "      <td>pulse</td>\n",
       "      <td>0</td>\n",
       "    </tr>\n",
       "    <tr>\n",
       "      <th>3</th>\n",
       "      <td>rectal_temp</td>\n",
       "      <td>0</td>\n",
       "    </tr>\n",
       "    <tr>\n",
       "      <th>24</th>\n",
       "      <td>lesion_2</td>\n",
       "      <td>0</td>\n",
       "    </tr>\n",
       "    <tr>\n",
       "      <th>25</th>\n",
       "      <td>lesion_3</td>\n",
       "      <td>None</td>\n",
       "    </tr>\n",
       "    <tr>\n",
       "      <th>26</th>\n",
       "      <td>cp_data</td>\n",
       "      <td>None</td>\n",
       "    </tr>\n",
       "  </tbody>\n",
       "</table>\n",
       "</div>"
      ],
      "text/plain": [
       "                        0     1\n",
       "0                 surgery   0.2\n",
       "2         hospital_number   0.2\n",
       "17     packed_cell_volume   0.2\n",
       "22        surgical_lesion   0.1\n",
       "6     temp_of_extremities   0.1\n",
       "7        peripheral_pulse   0.1\n",
       "18          total_protein   0.1\n",
       "14     nasogastric_reflux     0\n",
       "23               lesion_1     0\n",
       "21                outcome     0\n",
       "20         abdomo_protein     0\n",
       "19      abdomo_appearance     0\n",
       "16                abdomen     0\n",
       "15      rectal_exam_feces     0\n",
       "12   abdominal_distention     0\n",
       "13       nasogastric_tube     0\n",
       "1                     age     0\n",
       "11            peristalsis     0\n",
       "10                   pain     0\n",
       "9   capillary_refill_time     0\n",
       "8         mucous_membrane     0\n",
       "5        respiratory_rate     0\n",
       "4                   pulse     0\n",
       "3             rectal_temp     0\n",
       "24               lesion_2     0\n",
       "25               lesion_3  None\n",
       "26                cp_data  None"
      ]
     },
     "execution_count": 109,
     "metadata": {},
     "output_type": "execute_result"
    }
   ],
   "source": [
    "feature_imps=pd.DataFrame([h.columns,model.feature_importances_])\n",
    "fescr=pd.DataFrame(np.array(feature_imps).T)\n",
    "fescr.sort_values(by=1,ascending=False)"
   ]
  },
  {
   "cell_type": "code",
   "execution_count": null,
   "metadata": {},
   "outputs": [],
   "source": []
  },
  {
   "cell_type": "code",
   "execution_count": 110,
   "metadata": {
    "scrolled": true
   },
   "outputs": [
    {
     "name": "stderr",
     "output_type": "stream",
     "text": [
      "C:\\Anaconda3\\lib\\site-packages\\sklearn\\linear_model\\logistic.py:433: FutureWarning: Default solver will be changed to 'lbfgs' in 0.22. Specify a solver to silence this warning.\n",
      "  FutureWarning)\n",
      "C:\\Anaconda3\\lib\\site-packages\\sklearn\\linear_model\\logistic.py:460: FutureWarning: Default multi_class will be changed to 'auto' in 0.22. Specify the multi_class option to silence this warning.\n",
      "  \"this warning.\", FutureWarning)\n"
     ]
    },
    {
     "data": {
      "text/plain": [
       "0.6688963210702341"
      ]
     },
     "execution_count": 110,
     "metadata": {},
     "output_type": "execute_result"
    }
   ],
   "source": [
    "x=h[['surgery', 'age', 'hospital_number', 'rectal_temp', 'pulse',\n",
    "       'respiratory_rate', 'temp_of_extremities', 'peripheral_pulse',\n",
    "       'mucous_membrane', 'capillary_refill_time', 'pain', 'peristalsis',\n",
    "       'abdominal_distention', 'nasogastric_tube', 'nasogastric_reflux',\n",
    "       'rectal_exam_feces', 'abdomen', 'packed_cell_volume', 'total_protein',\n",
    "       'abdomo_appearance', 'abdomo_protein', 'surgical_lesion',\n",
    "       'lesion_1', 'lesion_2', 'lesion_3']]\n",
    "y=h['outcome']\n",
    "comp_model = LogisticRegression()\n",
    "comp_model.fit(x,y)\n",
    "comp_model.score(x,y)"
   ]
  },
  {
   "cell_type": "code",
   "execution_count": 111,
   "metadata": {},
   "outputs": [
    {
     "name": "stderr",
     "output_type": "stream",
     "text": [
      "C:\\Anaconda3\\lib\\site-packages\\sklearn\\svm\\base.py:196: FutureWarning: The default value of gamma will change from 'auto' to 'scale' in version 0.22 to account better for unscaled features. Set gamma explicitly to 'auto' or 'scale' to avoid this warning.\n",
      "  \"avoid this warning.\", FutureWarning)\n"
     ]
    },
    {
     "data": {
      "text/plain": [
       "0.6888888888888889"
      ]
     },
     "execution_count": 111,
     "metadata": {},
     "output_type": "execute_result"
    }
   ],
   "source": [
    "from sklearn.model_selection import train_test_split\n",
    "\n",
    "from sklearn.svm import SVC\n",
    "modsvm=SVC(kernel=\"rbf\")\n",
    "x=h[['surgery','surgical_lesion',\"packed_cell_volume\",\"temp_of_extremities\",\"temp_of_extremities\",\"peripheral_pulse\",\"total_protein\"]]\n",
    "y=h['outcome']\n",
    "X_train, X_test, y_train, y_test = train_test_split(x, y, test_size = 0.3, random_state = 10)\n",
    "modsvm.fit(X_train,y_train)\n",
    "modsvm.score(X_test,y_test)"
   ]
  },
  {
   "cell_type": "code",
   "execution_count": 112,
   "metadata": {},
   "outputs": [
    {
     "data": {
      "text/html": [
       "<div>\n",
       "<style scoped>\n",
       "    .dataframe tbody tr th:only-of-type {\n",
       "        vertical-align: middle;\n",
       "    }\n",
       "\n",
       "    .dataframe tbody tr th {\n",
       "        vertical-align: top;\n",
       "    }\n",
       "\n",
       "    .dataframe thead th {\n",
       "        text-align: right;\n",
       "    }\n",
       "</style>\n",
       "<table border=\"1\" class=\"dataframe\">\n",
       "  <thead>\n",
       "    <tr style=\"text-align: right;\">\n",
       "      <th></th>\n",
       "      <th>surgery</th>\n",
       "      <th>age</th>\n",
       "      <th>hospital_number</th>\n",
       "      <th>rectal_temp</th>\n",
       "      <th>pulse</th>\n",
       "      <th>respiratory_rate</th>\n",
       "      <th>temp_of_extremities</th>\n",
       "      <th>peripheral_pulse</th>\n",
       "      <th>mucous_membrane</th>\n",
       "      <th>capillary_refill_time</th>\n",
       "      <th>...</th>\n",
       "      <th>packed_cell_volume</th>\n",
       "      <th>total_protein</th>\n",
       "      <th>abdomo_appearance</th>\n",
       "      <th>abdomo_protein</th>\n",
       "      <th>outcome</th>\n",
       "      <th>surgical_lesion</th>\n",
       "      <th>lesion_1</th>\n",
       "      <th>lesion_2</th>\n",
       "      <th>lesion_3</th>\n",
       "      <th>cp_data</th>\n",
       "    </tr>\n",
       "  </thead>\n",
       "  <tbody>\n",
       "    <tr>\n",
       "      <th>0</th>\n",
       "      <td>0</td>\n",
       "      <td>0</td>\n",
       "      <td>530101</td>\n",
       "      <td>23</td>\n",
       "      <td>66.0</td>\n",
       "      <td>28.0</td>\n",
       "      <td>1</td>\n",
       "      <td>3</td>\n",
       "      <td>3</td>\n",
       "      <td>2</td>\n",
       "      <td>...</td>\n",
       "      <td>45.0</td>\n",
       "      <td>8.4</td>\n",
       "      <td>1</td>\n",
       "      <td>2.0</td>\n",
       "      <td>0</td>\n",
       "      <td>0</td>\n",
       "      <td>11300</td>\n",
       "      <td>0</td>\n",
       "      <td>0</td>\n",
       "      <td>no</td>\n",
       "    </tr>\n",
       "    <tr>\n",
       "      <th>1</th>\n",
       "      <td>1</td>\n",
       "      <td>0</td>\n",
       "      <td>534817</td>\n",
       "      <td>30</td>\n",
       "      <td>88.0</td>\n",
       "      <td>20.0</td>\n",
       "      <td>1</td>\n",
       "      <td>2</td>\n",
       "      <td>4</td>\n",
       "      <td>1</td>\n",
       "      <td>...</td>\n",
       "      <td>50.0</td>\n",
       "      <td>85.0</td>\n",
       "      <td>1</td>\n",
       "      <td>2.0</td>\n",
       "      <td>1</td>\n",
       "      <td>0</td>\n",
       "      <td>2208</td>\n",
       "      <td>0</td>\n",
       "      <td>0</td>\n",
       "      <td>no</td>\n",
       "    </tr>\n",
       "    <tr>\n",
       "      <th>2</th>\n",
       "      <td>0</td>\n",
       "      <td>0</td>\n",
       "      <td>530334</td>\n",
       "      <td>21</td>\n",
       "      <td>40.0</td>\n",
       "      <td>24.0</td>\n",
       "      <td>2</td>\n",
       "      <td>2</td>\n",
       "      <td>5</td>\n",
       "      <td>1</td>\n",
       "      <td>...</td>\n",
       "      <td>33.0</td>\n",
       "      <td>6.7</td>\n",
       "      <td>1</td>\n",
       "      <td>2.0</td>\n",
       "      <td>2</td>\n",
       "      <td>0</td>\n",
       "      <td>0</td>\n",
       "      <td>0</td>\n",
       "      <td>0</td>\n",
       "      <td>yes</td>\n",
       "    </tr>\n",
       "    <tr>\n",
       "      <th>3</th>\n",
       "      <td>1</td>\n",
       "      <td>1</td>\n",
       "      <td>5290409</td>\n",
       "      <td>29</td>\n",
       "      <td>164.0</td>\n",
       "      <td>84.0</td>\n",
       "      <td>0</td>\n",
       "      <td>2</td>\n",
       "      <td>2</td>\n",
       "      <td>2</td>\n",
       "      <td>...</td>\n",
       "      <td>48.0</td>\n",
       "      <td>7.2</td>\n",
       "      <td>2</td>\n",
       "      <td>5.3</td>\n",
       "      <td>0</td>\n",
       "      <td>1</td>\n",
       "      <td>2208</td>\n",
       "      <td>0</td>\n",
       "      <td>0</td>\n",
       "      <td>yes</td>\n",
       "    </tr>\n",
       "    <tr>\n",
       "      <th>4</th>\n",
       "      <td>0</td>\n",
       "      <td>0</td>\n",
       "      <td>530255</td>\n",
       "      <td>11</td>\n",
       "      <td>104.0</td>\n",
       "      <td>35.0</td>\n",
       "      <td>1</td>\n",
       "      <td>2</td>\n",
       "      <td>2</td>\n",
       "      <td>2</td>\n",
       "      <td>...</td>\n",
       "      <td>74.0</td>\n",
       "      <td>7.4</td>\n",
       "      <td>1</td>\n",
       "      <td>2.0</td>\n",
       "      <td>0</td>\n",
       "      <td>0</td>\n",
       "      <td>4300</td>\n",
       "      <td>0</td>\n",
       "      <td>0</td>\n",
       "      <td>no</td>\n",
       "    </tr>\n",
       "  </tbody>\n",
       "</table>\n",
       "<p>5 rows × 27 columns</p>\n",
       "</div>"
      ],
      "text/plain": [
       "   surgery  age  hospital_number  rectal_temp  pulse  respiratory_rate  \\\n",
       "0        0    0           530101           23   66.0              28.0   \n",
       "1        1    0           534817           30   88.0              20.0   \n",
       "2        0    0           530334           21   40.0              24.0   \n",
       "3        1    1          5290409           29  164.0              84.0   \n",
       "4        0    0           530255           11  104.0              35.0   \n",
       "\n",
       "   temp_of_extremities  peripheral_pulse  mucous_membrane  \\\n",
       "0                    1                 3                3   \n",
       "1                    1                 2                4   \n",
       "2                    2                 2                5   \n",
       "3                    0                 2                2   \n",
       "4                    1                 2                2   \n",
       "\n",
       "   capillary_refill_time   ...     packed_cell_volume  total_protein  \\\n",
       "0                      2   ...                   45.0            8.4   \n",
       "1                      1   ...                   50.0           85.0   \n",
       "2                      1   ...                   33.0            6.7   \n",
       "3                      2   ...                   48.0            7.2   \n",
       "4                      2   ...                   74.0            7.4   \n",
       "\n",
       "   abdomo_appearance  abdomo_protein  outcome  surgical_lesion  lesion_1  \\\n",
       "0                  1             2.0        0                0     11300   \n",
       "1                  1             2.0        1                0      2208   \n",
       "2                  1             2.0        2                0         0   \n",
       "3                  2             5.3        0                1      2208   \n",
       "4                  1             2.0        0                0      4300   \n",
       "\n",
       "   lesion_2  lesion_3  cp_data  \n",
       "0         0         0       no  \n",
       "1         0         0       no  \n",
       "2         0         0      yes  \n",
       "3         0         0      yes  \n",
       "4         0         0       no  \n",
       "\n",
       "[5 rows x 27 columns]"
      ]
     },
     "execution_count": 112,
     "metadata": {},
     "output_type": "execute_result"
    }
   ],
   "source": [
    "h.head()"
   ]
  },
  {
   "cell_type": "code",
   "execution_count": 113,
   "metadata": {},
   "outputs": [
    {
     "data": {
      "text/plain": [
       "0.6777777777777778"
      ]
     },
     "execution_count": 113,
     "metadata": {},
     "output_type": "execute_result"
    }
   ],
   "source": [
    "from sklearn.tree import DecisionTreeClassifier\n",
    "x=h[['surgery',\"rectal_temp\",'surgical_lesion',\"packed_cell_volume\",\"temp_of_extremities\",\"temp_of_extremities\",\"peripheral_pulse\",\"total_protein\"]]\n",
    "y=h['outcome']\n",
    "X_train, X_test, y_train, y_test = train_test_split(x, y, test_size = 0.3, random_state =10)\n",
    "desc=DecisionTreeClassifier(min_samples_split=10,min_impurity_decrease=0.005)\n",
    "\n",
    "desc.fit(X_train,y_train)\n",
    "desc.score(X_test,y_test)"
   ]
  },
  {
   "cell_type": "code",
   "execution_count": 114,
   "metadata": {},
   "outputs": [
    {
     "data": {
      "text/plain": [
       "0.7"
      ]
     },
     "execution_count": 114,
     "metadata": {},
     "output_type": "execute_result"
    }
   ],
   "source": [
    "from sklearn.neighbors import KNeighborsClassifier\n",
    "modelk=KNeighborsClassifier(n_neighbors=3,metric=\"euclidean\")\n",
    "x=h[['surgery','surgical_lesion',\"packed_cell_volume\",\"temp_of_extremities\",\"temp_of_extremities\",\"peripheral_pulse\",\"total_protein\"]]\n",
    "y=h['outcome']\n",
    "X_train, X_test, y_train, y_test = train_test_split(x, y, test_size = 0.3, random_state = 10)\n",
    "modelk.fit(X_train,y_train)\n",
    "modelk.score(X_test,y_test)"
   ]
  },
  {
   "cell_type": "code",
   "execution_count": 115,
   "metadata": {},
   "outputs": [
    {
     "data": {
      "text/plain": [
       "array([0, 1, 2], dtype=int64)"
      ]
     },
     "execution_count": 115,
     "metadata": {},
     "output_type": "execute_result"
    }
   ],
   "source": [
    "h[\"outcome\"].unique()"
   ]
  },
  {
   "cell_type": "code",
   "execution_count": 116,
   "metadata": {},
   "outputs": [
    {
     "name": "stderr",
     "output_type": "stream",
     "text": [
      "C:\\Anaconda3\\lib\\site-packages\\sklearn\\preprocessing\\data.py:323: DataConversionWarning: Data with input dtype int32, int64, float64 were all converted to float64 by MinMaxScaler.\n",
      "  return self.partial_fit(X, y)\n"
     ]
    }
   ],
   "source": [
    "from sklearn.preprocessing import MinMaxScaler\n",
    "scalar=MinMaxScaler()\n",
    "scaled_values=scalar.fit_transform(h[[ 'rectal_temp',\n",
    "       'packed_cell_volume','surgical_lesion', 'total_protein']])\n",
    "le = preprocessing.LabelEncoder()\n"
   ]
  },
  {
   "cell_type": "code",
   "execution_count": 117,
   "metadata": {},
   "outputs": [
    {
     "data": {
      "text/html": [
       "<div>\n",
       "<style scoped>\n",
       "    .dataframe tbody tr th:only-of-type {\n",
       "        vertical-align: middle;\n",
       "    }\n",
       "\n",
       "    .dataframe tbody tr th {\n",
       "        vertical-align: top;\n",
       "    }\n",
       "\n",
       "    .dataframe thead th {\n",
       "        text-align: right;\n",
       "    }\n",
       "</style>\n",
       "<table border=\"1\" class=\"dataframe\">\n",
       "  <thead>\n",
       "    <tr style=\"text-align: right;\">\n",
       "      <th></th>\n",
       "      <th>surgery</th>\n",
       "      <th>age</th>\n",
       "      <th>hospital_number</th>\n",
       "      <th>rectal_temp</th>\n",
       "      <th>pulse</th>\n",
       "      <th>respiratory_rate</th>\n",
       "      <th>temp_of_extremities</th>\n",
       "      <th>peripheral_pulse</th>\n",
       "      <th>mucous_membrane</th>\n",
       "      <th>capillary_refill_time</th>\n",
       "      <th>...</th>\n",
       "      <th>packed_cell_volume</th>\n",
       "      <th>total_protein</th>\n",
       "      <th>abdomo_appearance</th>\n",
       "      <th>abdomo_protein</th>\n",
       "      <th>outcome</th>\n",
       "      <th>surgical_lesion</th>\n",
       "      <th>lesion_1</th>\n",
       "      <th>lesion_2</th>\n",
       "      <th>lesion_3</th>\n",
       "      <th>cp_data</th>\n",
       "    </tr>\n",
       "  </thead>\n",
       "  <tbody>\n",
       "    <tr>\n",
       "      <th>0</th>\n",
       "      <td>0</td>\n",
       "      <td>0</td>\n",
       "      <td>530101</td>\n",
       "      <td>23</td>\n",
       "      <td>66.0</td>\n",
       "      <td>28.0</td>\n",
       "      <td>1</td>\n",
       "      <td>3</td>\n",
       "      <td>3</td>\n",
       "      <td>2</td>\n",
       "      <td>...</td>\n",
       "      <td>45.0</td>\n",
       "      <td>8.4</td>\n",
       "      <td>1</td>\n",
       "      <td>2.0</td>\n",
       "      <td>0</td>\n",
       "      <td>0</td>\n",
       "      <td>11300</td>\n",
       "      <td>0</td>\n",
       "      <td>0</td>\n",
       "      <td>no</td>\n",
       "    </tr>\n",
       "    <tr>\n",
       "      <th>1</th>\n",
       "      <td>1</td>\n",
       "      <td>0</td>\n",
       "      <td>534817</td>\n",
       "      <td>30</td>\n",
       "      <td>88.0</td>\n",
       "      <td>20.0</td>\n",
       "      <td>1</td>\n",
       "      <td>2</td>\n",
       "      <td>4</td>\n",
       "      <td>1</td>\n",
       "      <td>...</td>\n",
       "      <td>50.0</td>\n",
       "      <td>85.0</td>\n",
       "      <td>1</td>\n",
       "      <td>2.0</td>\n",
       "      <td>1</td>\n",
       "      <td>0</td>\n",
       "      <td>2208</td>\n",
       "      <td>0</td>\n",
       "      <td>0</td>\n",
       "      <td>no</td>\n",
       "    </tr>\n",
       "    <tr>\n",
       "      <th>2</th>\n",
       "      <td>0</td>\n",
       "      <td>0</td>\n",
       "      <td>530334</td>\n",
       "      <td>21</td>\n",
       "      <td>40.0</td>\n",
       "      <td>24.0</td>\n",
       "      <td>2</td>\n",
       "      <td>2</td>\n",
       "      <td>5</td>\n",
       "      <td>1</td>\n",
       "      <td>...</td>\n",
       "      <td>33.0</td>\n",
       "      <td>6.7</td>\n",
       "      <td>1</td>\n",
       "      <td>2.0</td>\n",
       "      <td>2</td>\n",
       "      <td>0</td>\n",
       "      <td>0</td>\n",
       "      <td>0</td>\n",
       "      <td>0</td>\n",
       "      <td>yes</td>\n",
       "    </tr>\n",
       "    <tr>\n",
       "      <th>3</th>\n",
       "      <td>1</td>\n",
       "      <td>1</td>\n",
       "      <td>5290409</td>\n",
       "      <td>29</td>\n",
       "      <td>164.0</td>\n",
       "      <td>84.0</td>\n",
       "      <td>0</td>\n",
       "      <td>2</td>\n",
       "      <td>2</td>\n",
       "      <td>2</td>\n",
       "      <td>...</td>\n",
       "      <td>48.0</td>\n",
       "      <td>7.2</td>\n",
       "      <td>2</td>\n",
       "      <td>5.3</td>\n",
       "      <td>0</td>\n",
       "      <td>1</td>\n",
       "      <td>2208</td>\n",
       "      <td>0</td>\n",
       "      <td>0</td>\n",
       "      <td>yes</td>\n",
       "    </tr>\n",
       "    <tr>\n",
       "      <th>4</th>\n",
       "      <td>0</td>\n",
       "      <td>0</td>\n",
       "      <td>530255</td>\n",
       "      <td>11</td>\n",
       "      <td>104.0</td>\n",
       "      <td>35.0</td>\n",
       "      <td>1</td>\n",
       "      <td>2</td>\n",
       "      <td>2</td>\n",
       "      <td>2</td>\n",
       "      <td>...</td>\n",
       "      <td>74.0</td>\n",
       "      <td>7.4</td>\n",
       "      <td>1</td>\n",
       "      <td>2.0</td>\n",
       "      <td>0</td>\n",
       "      <td>0</td>\n",
       "      <td>4300</td>\n",
       "      <td>0</td>\n",
       "      <td>0</td>\n",
       "      <td>no</td>\n",
       "    </tr>\n",
       "  </tbody>\n",
       "</table>\n",
       "<p>5 rows × 27 columns</p>\n",
       "</div>"
      ],
      "text/plain": [
       "   surgery  age  hospital_number  rectal_temp  pulse  respiratory_rate  \\\n",
       "0        0    0           530101           23   66.0              28.0   \n",
       "1        1    0           534817           30   88.0              20.0   \n",
       "2        0    0           530334           21   40.0              24.0   \n",
       "3        1    1          5290409           29  164.0              84.0   \n",
       "4        0    0           530255           11  104.0              35.0   \n",
       "\n",
       "   temp_of_extremities  peripheral_pulse  mucous_membrane  \\\n",
       "0                    1                 3                3   \n",
       "1                    1                 2                4   \n",
       "2                    2                 2                5   \n",
       "3                    0                 2                2   \n",
       "4                    1                 2                2   \n",
       "\n",
       "   capillary_refill_time   ...     packed_cell_volume  total_protein  \\\n",
       "0                      2   ...                   45.0            8.4   \n",
       "1                      1   ...                   50.0           85.0   \n",
       "2                      1   ...                   33.0            6.7   \n",
       "3                      2   ...                   48.0            7.2   \n",
       "4                      2   ...                   74.0            7.4   \n",
       "\n",
       "   abdomo_appearance  abdomo_protein  outcome  surgical_lesion  lesion_1  \\\n",
       "0                  1             2.0        0                0     11300   \n",
       "1                  1             2.0        1                0      2208   \n",
       "2                  1             2.0        2                0         0   \n",
       "3                  2             5.3        0                1      2208   \n",
       "4                  1             2.0        0                0      4300   \n",
       "\n",
       "   lesion_2  lesion_3  cp_data  \n",
       "0         0         0       no  \n",
       "1         0         0       no  \n",
       "2         0         0      yes  \n",
       "3         0         0      yes  \n",
       "4         0         0       no  \n",
       "\n",
       "[5 rows x 27 columns]"
      ]
     },
     "execution_count": 117,
     "metadata": {},
     "output_type": "execute_result"
    }
   ],
   "source": [
    "h.head()"
   ]
  },
  {
   "cell_type": "code",
   "execution_count": 118,
   "metadata": {},
   "outputs": [
    {
     "name": "stderr",
     "output_type": "stream",
     "text": [
      "C:\\Anaconda3\\lib\\site-packages\\sklearn\\svm\\base.py:196: FutureWarning: The default value of gamma will change from 'auto' to 'scale' in version 0.22 to account better for unscaled features. Set gamma explicitly to 'auto' or 'scale' to avoid this warning.\n",
      "  \"avoid this warning.\", FutureWarning)\n"
     ]
    },
    {
     "data": {
      "text/plain": [
       "0.6888888888888889"
      ]
     },
     "execution_count": 118,
     "metadata": {},
     "output_type": "execute_result"
    }
   ],
   "source": [
    "from sklearn.model_selection import train_test_split\n",
    "\n",
    "from sklearn.svm import SVC\n",
    "modsvm=SVC(kernel=\"rbf\")\n",
    "x=h[['surgery','surgical_lesion',\"packed_cell_volume\",\"temp_of_extremities\",\"temp_of_extremities\",\"peripheral_pulse\",\"total_protein\"]]\n",
    "y=h['outcome']\n",
    "X_train, X_test, y_train, y_test = train_test_split(x, y, test_size = 0.3, random_state = 10)\n",
    "modsvm.fit(X_train,y_train)\n",
    "modsvm.score(X_test,y_test)"
   ]
  },
  {
   "cell_type": "code",
   "execution_count": 119,
   "metadata": {},
   "outputs": [
    {
     "data": {
      "text/plain": [
       "0.7111111111111111"
      ]
     },
     "execution_count": 119,
     "metadata": {},
     "output_type": "execute_result"
    }
   ],
   "source": [
    "from sklearn.tree import DecisionTreeClassifier\n",
    "x=h[['surgery',\"rectal_temp\",'surgical_lesion',\"packed_cell_volume\",\"temp_of_extremities\",\"peripheral_pulse\",\"total_protein\"]]\n",
    "y=h['outcome']\n",
    "X_train, X_test, y_train, y_test = train_test_split(x, y, test_size = 0.3, random_state =10)\n",
    "desc=DecisionTreeClassifier(min_samples_split=10,min_impurity_decrease=0.005)\n",
    "\n",
    "desc.fit(X_train,y_train)\n",
    "desc.score(X_test,y_test)"
   ]
  },
  {
   "cell_type": "code",
   "execution_count": 120,
   "metadata": {
    "scrolled": true
   },
   "outputs": [
    {
     "data": {
      "text/plain": [
       "surgery                 -0.189222\n",
       "age                     -0.101782\n",
       "hospital_number         -0.106396\n",
       "rectal_temp              0.040551\n",
       "pulse                   -0.311773\n",
       "respiratory_rate        -0.057938\n",
       "temp_of_extremities      0.290367\n",
       "peripheral_pulse        -0.165719\n",
       "mucous_membrane          0.056852\n",
       "capillary_refill_time   -0.256294\n",
       "pain                    -0.161964\n",
       "peristalsis              0.165844\n",
       "abdominal_distention     0.112309\n",
       "nasogastric_tube         0.049156\n",
       "nasogastric_reflux       0.181422\n",
       "rectal_exam_feces        0.193004\n",
       "abdomen                  0.214875\n",
       "packed_cell_volume      -0.369554\n",
       "total_protein            0.266737\n",
       "abdomo_appearance       -0.243140\n",
       "abdomo_protein          -0.135177\n",
       "outcome                  1.000000\n",
       "surgical_lesion         -0.332933\n",
       "lesion_1                -0.100738\n",
       "lesion_2                 0.098993\n",
       "lesion_3                 0.044631\n",
       "Name: outcome, dtype: float64"
      ]
     },
     "execution_count": 120,
     "metadata": {},
     "output_type": "execute_result"
    }
   ],
   "source": [
    "h.corr()['outcome']"
   ]
  },
  {
   "cell_type": "code",
   "execution_count": 121,
   "metadata": {},
   "outputs": [
    {
     "data": {
      "text/plain": [
       "surgery                  2.403986e-01\n",
       "age                      7.407241e-02\n",
       "hospital_number          2.347121e+12\n",
       "rectal_temp              3.886144e+01\n",
       "pulse                    7.971825e+02\n",
       "respiratory_rate         2.685146e+02\n",
       "temp_of_extremities      6.167538e-01\n",
       "peripheral_pulse         3.943346e-01\n",
       "mucous_membrane          2.211129e+00\n",
       "capillary_refill_time    2.036318e-01\n",
       "pain                     1.582972e+00\n",
       "peristalsis              8.438868e-01\n",
       "abdominal_distention     1.099055e+00\n",
       "nasogastric_tube         7.246526e-01\n",
       "nasogastric_reflux       4.673296e-01\n",
       "rectal_exam_feces        1.383381e+00\n",
       "abdomen                  1.596014e+00\n",
       "packed_cell_volume       1.059380e+02\n",
       "total_protein            6.970027e+02\n",
       "abdomo_appearance        2.916657e-01\n",
       "abdomo_protein           1.542171e+00\n",
       "outcome                  7.412179e-01\n",
       "surgical_lesion          2.324302e-01\n",
       "lesion_1                 2.925157e+07\n",
       "lesion_2                 4.233287e+05\n",
       "lesion_3                 1.632000e+04\n",
       "dtype: float64"
      ]
     },
     "execution_count": 121,
     "metadata": {},
     "output_type": "execute_result"
    }
   ],
   "source": [
    "h.var()"
   ]
  },
  {
   "cell_type": "code",
   "execution_count": 122,
   "metadata": {},
   "outputs": [
    {
     "name": "stderr",
     "output_type": "stream",
     "text": [
      "C:\\Anaconda3\\lib\\site-packages\\sklearn\\svm\\base.py:196: FutureWarning: The default value of gamma will change from 'auto' to 'scale' in version 0.22 to account better for unscaled features. Set gamma explicitly to 'auto' or 'scale' to avoid this warning.\n",
      "  \"avoid this warning.\", FutureWarning)\n"
     ]
    },
    {
     "data": {
      "text/plain": [
       "0.6888888888888889"
      ]
     },
     "execution_count": 122,
     "metadata": {},
     "output_type": "execute_result"
    }
   ],
   "source": [
    "from sklearn.svm import SVC\n",
    "modsvm=SVC(kernel=\"rbf\")\n",
    "x=h[['surgery','surgical_lesion',\"packed_cell_volume\",\"temp_of_extremities\",\"temp_of_extremities\",\"peripheral_pulse\",\"total_protein\"]]\n",
    "y=h['outcome']\n",
    "X_train, X_test, y_train, y_test = train_test_split(x, y, test_size = 0.3, random_state = 10)\n",
    "modsvm.fit(X_train,y_train)\n",
    "modsvm.score(X_test,y_test)"
   ]
  },
  {
   "cell_type": "code",
   "execution_count": 123,
   "metadata": {},
   "outputs": [
    {
     "data": {
      "text/html": [
       "<div>\n",
       "<style scoped>\n",
       "    .dataframe tbody tr th:only-of-type {\n",
       "        vertical-align: middle;\n",
       "    }\n",
       "\n",
       "    .dataframe tbody tr th {\n",
       "        vertical-align: top;\n",
       "    }\n",
       "\n",
       "    .dataframe thead th {\n",
       "        text-align: right;\n",
       "    }\n",
       "</style>\n",
       "<table border=\"1\" class=\"dataframe\">\n",
       "  <thead>\n",
       "    <tr style=\"text-align: right;\">\n",
       "      <th></th>\n",
       "      <th>surgery</th>\n",
       "      <th>age</th>\n",
       "      <th>hospital_number</th>\n",
       "      <th>rectal_temp</th>\n",
       "      <th>pulse</th>\n",
       "      <th>respiratory_rate</th>\n",
       "      <th>temp_of_extremities</th>\n",
       "      <th>peripheral_pulse</th>\n",
       "      <th>mucous_membrane</th>\n",
       "      <th>capillary_refill_time</th>\n",
       "      <th>...</th>\n",
       "      <th>abdomen</th>\n",
       "      <th>packed_cell_volume</th>\n",
       "      <th>total_protein</th>\n",
       "      <th>abdomo_appearance</th>\n",
       "      <th>abdomo_protein</th>\n",
       "      <th>outcome</th>\n",
       "      <th>surgical_lesion</th>\n",
       "      <th>lesion_1</th>\n",
       "      <th>lesion_2</th>\n",
       "      <th>lesion_3</th>\n",
       "    </tr>\n",
       "  </thead>\n",
       "  <tbody>\n",
       "    <tr>\n",
       "      <th>surgery</th>\n",
       "      <td>1.000000</td>\n",
       "      <td>0.089319</td>\n",
       "      <td>0.126044</td>\n",
       "      <td>-0.044371</td>\n",
       "      <td>0.165745</td>\n",
       "      <td>0.170552</td>\n",
       "      <td>-0.190183</td>\n",
       "      <td>0.115915</td>\n",
       "      <td>0.041470</td>\n",
       "      <td>0.079588</td>\n",
       "      <td>...</td>\n",
       "      <td>-0.297202</td>\n",
       "      <td>0.029030</td>\n",
       "      <td>0.031630</td>\n",
       "      <td>0.139274</td>\n",
       "      <td>0.029151</td>\n",
       "      <td>-0.189222</td>\n",
       "      <td>0.605023</td>\n",
       "      <td>0.163940</td>\n",
       "      <td>0.098594</td>\n",
       "      <td>0.047101</td>\n",
       "    </tr>\n",
       "    <tr>\n",
       "      <th>age</th>\n",
       "      <td>0.089319</td>\n",
       "      <td>1.000000</td>\n",
       "      <td>0.697331</td>\n",
       "      <td>0.190688</td>\n",
       "      <td>0.492692</td>\n",
       "      <td>0.368429</td>\n",
       "      <td>-0.014282</td>\n",
       "      <td>0.027843</td>\n",
       "      <td>-0.170800</td>\n",
       "      <td>-0.030065</td>\n",
       "      <td>...</td>\n",
       "      <td>-0.111078</td>\n",
       "      <td>-0.124240</td>\n",
       "      <td>-0.104989</td>\n",
       "      <td>-0.054823</td>\n",
       "      <td>-0.034036</td>\n",
       "      <td>-0.101782</td>\n",
       "      <td>0.044734</td>\n",
       "      <td>0.022870</td>\n",
       "      <td>0.017781</td>\n",
       "      <td>0.196089</td>\n",
       "    </tr>\n",
       "    <tr>\n",
       "      <th>hospital_number</th>\n",
       "      <td>0.126044</td>\n",
       "      <td>0.697331</td>\n",
       "      <td>1.000000</td>\n",
       "      <td>0.144806</td>\n",
       "      <td>0.310237</td>\n",
       "      <td>0.245490</td>\n",
       "      <td>0.000103</td>\n",
       "      <td>0.023254</td>\n",
       "      <td>-0.157237</td>\n",
       "      <td>0.025368</td>\n",
       "      <td>...</td>\n",
       "      <td>-0.155145</td>\n",
       "      <td>-0.098728</td>\n",
       "      <td>-0.215517</td>\n",
       "      <td>-0.107999</td>\n",
       "      <td>-0.053040</td>\n",
       "      <td>-0.106396</td>\n",
       "      <td>0.102425</td>\n",
       "      <td>0.145397</td>\n",
       "      <td>-0.050433</td>\n",
       "      <td>-0.020950</td>\n",
       "    </tr>\n",
       "    <tr>\n",
       "      <th>rectal_temp</th>\n",
       "      <td>-0.044371</td>\n",
       "      <td>0.190688</td>\n",
       "      <td>0.144806</td>\n",
       "      <td>1.000000</td>\n",
       "      <td>0.191953</td>\n",
       "      <td>0.234185</td>\n",
       "      <td>-0.030654</td>\n",
       "      <td>0.017706</td>\n",
       "      <td>-0.173840</td>\n",
       "      <td>0.107125</td>\n",
       "      <td>...</td>\n",
       "      <td>0.005561</td>\n",
       "      <td>0.056520</td>\n",
       "      <td>-0.030728</td>\n",
       "      <td>-0.079529</td>\n",
       "      <td>0.003825</td>\n",
       "      <td>0.040551</td>\n",
       "      <td>-0.036839</td>\n",
       "      <td>0.040822</td>\n",
       "      <td>-0.055494</td>\n",
       "      <td>0.033901</td>\n",
       "    </tr>\n",
       "    <tr>\n",
       "      <th>pulse</th>\n",
       "      <td>0.165745</td>\n",
       "      <td>0.492692</td>\n",
       "      <td>0.310237</td>\n",
       "      <td>0.191953</td>\n",
       "      <td>1.000000</td>\n",
       "      <td>0.430719</td>\n",
       "      <td>-0.254576</td>\n",
       "      <td>0.243200</td>\n",
       "      <td>-0.062074</td>\n",
       "      <td>0.378847</td>\n",
       "      <td>...</td>\n",
       "      <td>-0.183437</td>\n",
       "      <td>0.362897</td>\n",
       "      <td>-0.062850</td>\n",
       "      <td>0.239796</td>\n",
       "      <td>0.080429</td>\n",
       "      <td>-0.311773</td>\n",
       "      <td>0.236421</td>\n",
       "      <td>0.064901</td>\n",
       "      <td>0.007679</td>\n",
       "      <td>0.102606</td>\n",
       "    </tr>\n",
       "    <tr>\n",
       "      <th>respiratory_rate</th>\n",
       "      <td>0.170552</td>\n",
       "      <td>0.368429</td>\n",
       "      <td>0.245490</td>\n",
       "      <td>0.234185</td>\n",
       "      <td>0.430719</td>\n",
       "      <td>1.000000</td>\n",
       "      <td>-0.030480</td>\n",
       "      <td>0.121191</td>\n",
       "      <td>-0.088256</td>\n",
       "      <td>0.069983</td>\n",
       "      <td>...</td>\n",
       "      <td>-0.148288</td>\n",
       "      <td>0.059168</td>\n",
       "      <td>-0.081669</td>\n",
       "      <td>0.077674</td>\n",
       "      <td>-0.040418</td>\n",
       "      <td>-0.057938</td>\n",
       "      <td>0.179689</td>\n",
       "      <td>0.133732</td>\n",
       "      <td>-0.002598</td>\n",
       "      <td>0.147197</td>\n",
       "    </tr>\n",
       "    <tr>\n",
       "      <th>temp_of_extremities</th>\n",
       "      <td>-0.190183</td>\n",
       "      <td>-0.014282</td>\n",
       "      <td>0.000103</td>\n",
       "      <td>-0.030654</td>\n",
       "      <td>-0.254576</td>\n",
       "      <td>-0.030480</td>\n",
       "      <td>1.000000</td>\n",
       "      <td>-0.193530</td>\n",
       "      <td>-0.089494</td>\n",
       "      <td>-0.257690</td>\n",
       "      <td>...</td>\n",
       "      <td>0.169069</td>\n",
       "      <td>-0.270435</td>\n",
       "      <td>0.053845</td>\n",
       "      <td>-0.236222</td>\n",
       "      <td>-0.079070</td>\n",
       "      <td>0.290367</td>\n",
       "      <td>-0.226318</td>\n",
       "      <td>0.025731</td>\n",
       "      <td>0.026258</td>\n",
       "      <td>-0.027429</td>\n",
       "    </tr>\n",
       "    <tr>\n",
       "      <th>peripheral_pulse</th>\n",
       "      <td>0.115915</td>\n",
       "      <td>0.027843</td>\n",
       "      <td>0.023254</td>\n",
       "      <td>0.017706</td>\n",
       "      <td>0.243200</td>\n",
       "      <td>0.121191</td>\n",
       "      <td>-0.193530</td>\n",
       "      <td>1.000000</td>\n",
       "      <td>0.080396</td>\n",
       "      <td>0.226861</td>\n",
       "      <td>...</td>\n",
       "      <td>-0.121833</td>\n",
       "      <td>0.259239</td>\n",
       "      <td>-0.022800</td>\n",
       "      <td>0.164539</td>\n",
       "      <td>0.101571</td>\n",
       "      <td>-0.165719</td>\n",
       "      <td>0.165077</td>\n",
       "      <td>0.128019</td>\n",
       "      <td>0.001640</td>\n",
       "      <td>-0.025341</td>\n",
       "    </tr>\n",
       "    <tr>\n",
       "      <th>mucous_membrane</th>\n",
       "      <td>0.041470</td>\n",
       "      <td>-0.170800</td>\n",
       "      <td>-0.157237</td>\n",
       "      <td>-0.173840</td>\n",
       "      <td>-0.062074</td>\n",
       "      <td>-0.088256</td>\n",
       "      <td>-0.089494</td>\n",
       "      <td>0.080396</td>\n",
       "      <td>1.000000</td>\n",
       "      <td>-0.058657</td>\n",
       "      <td>...</td>\n",
       "      <td>0.017558</td>\n",
       "      <td>-0.128259</td>\n",
       "      <td>-0.012081</td>\n",
       "      <td>0.067207</td>\n",
       "      <td>-0.004078</td>\n",
       "      <td>0.056852</td>\n",
       "      <td>0.075724</td>\n",
       "      <td>0.074783</td>\n",
       "      <td>0.028010</td>\n",
       "      <td>0.000653</td>\n",
       "    </tr>\n",
       "    <tr>\n",
       "      <th>capillary_refill_time</th>\n",
       "      <td>0.079588</td>\n",
       "      <td>-0.030065</td>\n",
       "      <td>0.025368</td>\n",
       "      <td>0.107125</td>\n",
       "      <td>0.378847</td>\n",
       "      <td>0.069983</td>\n",
       "      <td>-0.257690</td>\n",
       "      <td>0.226861</td>\n",
       "      <td>-0.058657</td>\n",
       "      <td>1.000000</td>\n",
       "      <td>...</td>\n",
       "      <td>-0.142492</td>\n",
       "      <td>0.451013</td>\n",
       "      <td>-0.086351</td>\n",
       "      <td>0.257890</td>\n",
       "      <td>0.082703</td>\n",
       "      <td>-0.256294</td>\n",
       "      <td>0.165131</td>\n",
       "      <td>0.052515</td>\n",
       "      <td>0.008490</td>\n",
       "      <td>-0.032684</td>\n",
       "    </tr>\n",
       "    <tr>\n",
       "      <th>pain</th>\n",
       "      <td>0.228871</td>\n",
       "      <td>0.058242</td>\n",
       "      <td>0.120780</td>\n",
       "      <td>-0.110190</td>\n",
       "      <td>0.101678</td>\n",
       "      <td>0.084609</td>\n",
       "      <td>-0.188108</td>\n",
       "      <td>0.062531</td>\n",
       "      <td>0.154351</td>\n",
       "      <td>0.059026</td>\n",
       "      <td>...</td>\n",
       "      <td>-0.296097</td>\n",
       "      <td>-0.021248</td>\n",
       "      <td>-0.110198</td>\n",
       "      <td>0.019490</td>\n",
       "      <td>-0.030119</td>\n",
       "      <td>-0.161964</td>\n",
       "      <td>0.276427</td>\n",
       "      <td>0.083558</td>\n",
       "      <td>-0.036399</td>\n",
       "      <td>0.036402</td>\n",
       "    </tr>\n",
       "    <tr>\n",
       "      <th>peristalsis</th>\n",
       "      <td>-0.061546</td>\n",
       "      <td>0.021008</td>\n",
       "      <td>0.065362</td>\n",
       "      <td>-0.054802</td>\n",
       "      <td>-0.277590</td>\n",
       "      <td>-0.041483</td>\n",
       "      <td>0.194146</td>\n",
       "      <td>-0.224845</td>\n",
       "      <td>-0.173991</td>\n",
       "      <td>-0.235108</td>\n",
       "      <td>...</td>\n",
       "      <td>0.108243</td>\n",
       "      <td>-0.290531</td>\n",
       "      <td>-0.134788</td>\n",
       "      <td>-0.102635</td>\n",
       "      <td>-0.027804</td>\n",
       "      <td>0.165844</td>\n",
       "      <td>-0.148574</td>\n",
       "      <td>-0.043938</td>\n",
       "      <td>-0.017167</td>\n",
       "      <td>-0.027463</td>\n",
       "    </tr>\n",
       "    <tr>\n",
       "      <th>abdominal_distention</th>\n",
       "      <td>-0.150197</td>\n",
       "      <td>-0.038430</td>\n",
       "      <td>-0.080212</td>\n",
       "      <td>-0.029709</td>\n",
       "      <td>-0.076590</td>\n",
       "      <td>-0.047748</td>\n",
       "      <td>0.043866</td>\n",
       "      <td>-0.133792</td>\n",
       "      <td>-0.007055</td>\n",
       "      <td>0.034186</td>\n",
       "      <td>...</td>\n",
       "      <td>0.114305</td>\n",
       "      <td>-0.046550</td>\n",
       "      <td>-0.019836</td>\n",
       "      <td>-0.063551</td>\n",
       "      <td>0.013995</td>\n",
       "      <td>0.112309</td>\n",
       "      <td>-0.149064</td>\n",
       "      <td>-0.018373</td>\n",
       "      <td>0.015672</td>\n",
       "      <td>-0.019067</td>\n",
       "    </tr>\n",
       "    <tr>\n",
       "      <th>nasogastric_tube</th>\n",
       "      <td>0.066982</td>\n",
       "      <td>0.018020</td>\n",
       "      <td>-0.032929</td>\n",
       "      <td>-0.046764</td>\n",
       "      <td>-0.030277</td>\n",
       "      <td>-0.023290</td>\n",
       "      <td>-0.058958</td>\n",
       "      <td>-0.067478</td>\n",
       "      <td>0.064263</td>\n",
       "      <td>-0.026733</td>\n",
       "      <td>...</td>\n",
       "      <td>0.060445</td>\n",
       "      <td>-0.070750</td>\n",
       "      <td>-0.052679</td>\n",
       "      <td>-0.067451</td>\n",
       "      <td>0.017278</td>\n",
       "      <td>0.049156</td>\n",
       "      <td>0.023299</td>\n",
       "      <td>0.006073</td>\n",
       "      <td>0.035838</td>\n",
       "      <td>0.037616</td>\n",
       "    </tr>\n",
       "    <tr>\n",
       "      <th>nasogastric_reflux</th>\n",
       "      <td>-0.083910</td>\n",
       "      <td>0.085657</td>\n",
       "      <td>0.042219</td>\n",
       "      <td>-0.032279</td>\n",
       "      <td>-0.117176</td>\n",
       "      <td>-0.167148</td>\n",
       "      <td>0.077912</td>\n",
       "      <td>-0.227529</td>\n",
       "      <td>-0.039029</td>\n",
       "      <td>-0.166372</td>\n",
       "      <td>...</td>\n",
       "      <td>0.071811</td>\n",
       "      <td>-0.305177</td>\n",
       "      <td>0.082700</td>\n",
       "      <td>-0.092504</td>\n",
       "      <td>-0.041988</td>\n",
       "      <td>0.181422</td>\n",
       "      <td>-0.211128</td>\n",
       "      <td>-0.095119</td>\n",
       "      <td>0.074447</td>\n",
       "      <td>0.030943</td>\n",
       "    </tr>\n",
       "    <tr>\n",
       "      <th>rectal_exam_feces</th>\n",
       "      <td>-0.171611</td>\n",
       "      <td>0.003506</td>\n",
       "      <td>-0.006083</td>\n",
       "      <td>-0.017243</td>\n",
       "      <td>-0.169766</td>\n",
       "      <td>0.007713</td>\n",
       "      <td>0.269007</td>\n",
       "      <td>-0.132625</td>\n",
       "      <td>-0.028594</td>\n",
       "      <td>-0.172442</td>\n",
       "      <td>...</td>\n",
       "      <td>0.237937</td>\n",
       "      <td>-0.180495</td>\n",
       "      <td>-0.013056</td>\n",
       "      <td>-0.153716</td>\n",
       "      <td>0.058271</td>\n",
       "      <td>0.193004</td>\n",
       "      <td>-0.199348</td>\n",
       "      <td>-0.046853</td>\n",
       "      <td>-0.042686</td>\n",
       "      <td>0.107578</td>\n",
       "    </tr>\n",
       "    <tr>\n",
       "      <th>abdomen</th>\n",
       "      <td>-0.297202</td>\n",
       "      <td>-0.111078</td>\n",
       "      <td>-0.155145</td>\n",
       "      <td>0.005561</td>\n",
       "      <td>-0.183437</td>\n",
       "      <td>-0.148288</td>\n",
       "      <td>0.169069</td>\n",
       "      <td>-0.121833</td>\n",
       "      <td>0.017558</td>\n",
       "      <td>-0.142492</td>\n",
       "      <td>...</td>\n",
       "      <td>1.000000</td>\n",
       "      <td>-0.011400</td>\n",
       "      <td>0.007474</td>\n",
       "      <td>-0.068019</td>\n",
       "      <td>0.038890</td>\n",
       "      <td>0.214875</td>\n",
       "      <td>-0.316903</td>\n",
       "      <td>-0.102689</td>\n",
       "      <td>-0.084634</td>\n",
       "      <td>-0.035178</td>\n",
       "    </tr>\n",
       "    <tr>\n",
       "      <th>packed_cell_volume</th>\n",
       "      <td>0.029030</td>\n",
       "      <td>-0.124240</td>\n",
       "      <td>-0.098728</td>\n",
       "      <td>0.056520</td>\n",
       "      <td>0.362897</td>\n",
       "      <td>0.059168</td>\n",
       "      <td>-0.270435</td>\n",
       "      <td>0.259239</td>\n",
       "      <td>-0.128259</td>\n",
       "      <td>0.451013</td>\n",
       "      <td>...</td>\n",
       "      <td>-0.011400</td>\n",
       "      <td>1.000000</td>\n",
       "      <td>-0.005476</td>\n",
       "      <td>0.217919</td>\n",
       "      <td>0.109192</td>\n",
       "      <td>-0.369554</td>\n",
       "      <td>0.160686</td>\n",
       "      <td>-0.054508</td>\n",
       "      <td>-0.062560</td>\n",
       "      <td>-0.058657</td>\n",
       "    </tr>\n",
       "    <tr>\n",
       "      <th>total_protein</th>\n",
       "      <td>0.031630</td>\n",
       "      <td>-0.104989</td>\n",
       "      <td>-0.215517</td>\n",
       "      <td>-0.030728</td>\n",
       "      <td>-0.062850</td>\n",
       "      <td>-0.081669</td>\n",
       "      <td>0.053845</td>\n",
       "      <td>-0.022800</td>\n",
       "      <td>-0.012081</td>\n",
       "      <td>-0.086351</td>\n",
       "      <td>...</td>\n",
       "      <td>0.007474</td>\n",
       "      <td>-0.005476</td>\n",
       "      <td>1.000000</td>\n",
       "      <td>-0.082836</td>\n",
       "      <td>-0.236439</td>\n",
       "      <td>0.266737</td>\n",
       "      <td>-0.124866</td>\n",
       "      <td>-0.168682</td>\n",
       "      <td>0.228945</td>\n",
       "      <td>0.069645</td>\n",
       "    </tr>\n",
       "    <tr>\n",
       "      <th>abdomo_appearance</th>\n",
       "      <td>0.139274</td>\n",
       "      <td>-0.054823</td>\n",
       "      <td>-0.107999</td>\n",
       "      <td>-0.079529</td>\n",
       "      <td>0.239796</td>\n",
       "      <td>0.077674</td>\n",
       "      <td>-0.236222</td>\n",
       "      <td>0.164539</td>\n",
       "      <td>0.067207</td>\n",
       "      <td>0.257890</td>\n",
       "      <td>...</td>\n",
       "      <td>-0.068019</td>\n",
       "      <td>0.217919</td>\n",
       "      <td>-0.082836</td>\n",
       "      <td>1.000000</td>\n",
       "      <td>0.052257</td>\n",
       "      <td>-0.243140</td>\n",
       "      <td>0.242593</td>\n",
       "      <td>-0.022225</td>\n",
       "      <td>-0.072233</td>\n",
       "      <td>-0.109239</td>\n",
       "    </tr>\n",
       "    <tr>\n",
       "      <th>abdomo_protein</th>\n",
       "      <td>0.029151</td>\n",
       "      <td>-0.034036</td>\n",
       "      <td>-0.053040</td>\n",
       "      <td>0.003825</td>\n",
       "      <td>0.080429</td>\n",
       "      <td>-0.040418</td>\n",
       "      <td>-0.079070</td>\n",
       "      <td>0.101571</td>\n",
       "      <td>-0.004078</td>\n",
       "      <td>0.082703</td>\n",
       "      <td>...</td>\n",
       "      <td>0.038890</td>\n",
       "      <td>0.109192</td>\n",
       "      <td>-0.236439</td>\n",
       "      <td>0.052257</td>\n",
       "      <td>1.000000</td>\n",
       "      <td>-0.135177</td>\n",
       "      <td>0.063210</td>\n",
       "      <td>-0.031927</td>\n",
       "      <td>-0.077782</td>\n",
       "      <td>-0.063134</td>\n",
       "    </tr>\n",
       "    <tr>\n",
       "      <th>outcome</th>\n",
       "      <td>-0.189222</td>\n",
       "      <td>-0.101782</td>\n",
       "      <td>-0.106396</td>\n",
       "      <td>0.040551</td>\n",
       "      <td>-0.311773</td>\n",
       "      <td>-0.057938</td>\n",
       "      <td>0.290367</td>\n",
       "      <td>-0.165719</td>\n",
       "      <td>0.056852</td>\n",
       "      <td>-0.256294</td>\n",
       "      <td>...</td>\n",
       "      <td>0.214875</td>\n",
       "      <td>-0.369554</td>\n",
       "      <td>0.266737</td>\n",
       "      <td>-0.243140</td>\n",
       "      <td>-0.135177</td>\n",
       "      <td>1.000000</td>\n",
       "      <td>-0.332933</td>\n",
       "      <td>-0.100738</td>\n",
       "      <td>0.098993</td>\n",
       "      <td>0.044631</td>\n",
       "    </tr>\n",
       "    <tr>\n",
       "      <th>surgical_lesion</th>\n",
       "      <td>0.605023</td>\n",
       "      <td>0.044734</td>\n",
       "      <td>0.102425</td>\n",
       "      <td>-0.036839</td>\n",
       "      <td>0.236421</td>\n",
       "      <td>0.179689</td>\n",
       "      <td>-0.226318</td>\n",
       "      <td>0.165077</td>\n",
       "      <td>0.075724</td>\n",
       "      <td>0.165131</td>\n",
       "      <td>...</td>\n",
       "      <td>-0.316903</td>\n",
       "      <td>0.160686</td>\n",
       "      <td>-0.124866</td>\n",
       "      <td>0.242593</td>\n",
       "      <td>0.063210</td>\n",
       "      <td>-0.332933</td>\n",
       "      <td>1.000000</td>\n",
       "      <td>0.252655</td>\n",
       "      <td>0.090586</td>\n",
       "      <td>0.043876</td>\n",
       "    </tr>\n",
       "    <tr>\n",
       "      <th>lesion_1</th>\n",
       "      <td>0.163940</td>\n",
       "      <td>0.022870</td>\n",
       "      <td>0.145397</td>\n",
       "      <td>0.040822</td>\n",
       "      <td>0.064901</td>\n",
       "      <td>0.133732</td>\n",
       "      <td>0.025731</td>\n",
       "      <td>0.128019</td>\n",
       "      <td>0.074783</td>\n",
       "      <td>0.052515</td>\n",
       "      <td>...</td>\n",
       "      <td>-0.102689</td>\n",
       "      <td>-0.054508</td>\n",
       "      <td>-0.168682</td>\n",
       "      <td>-0.022225</td>\n",
       "      <td>-0.031927</td>\n",
       "      <td>-0.100738</td>\n",
       "      <td>0.252655</td>\n",
       "      <td>1.000000</td>\n",
       "      <td>0.005966</td>\n",
       "      <td>0.005850</td>\n",
       "    </tr>\n",
       "    <tr>\n",
       "      <th>lesion_2</th>\n",
       "      <td>0.098594</td>\n",
       "      <td>0.017781</td>\n",
       "      <td>-0.050433</td>\n",
       "      <td>-0.055494</td>\n",
       "      <td>0.007679</td>\n",
       "      <td>-0.002598</td>\n",
       "      <td>0.026258</td>\n",
       "      <td>0.001640</td>\n",
       "      <td>0.028010</td>\n",
       "      <td>0.008490</td>\n",
       "      <td>...</td>\n",
       "      <td>-0.084634</td>\n",
       "      <td>-0.062560</td>\n",
       "      <td>0.228945</td>\n",
       "      <td>-0.072233</td>\n",
       "      <td>-0.077782</td>\n",
       "      <td>0.098993</td>\n",
       "      <td>0.090586</td>\n",
       "      <td>0.005966</td>\n",
       "      <td>1.000000</td>\n",
       "      <td>0.269374</td>\n",
       "    </tr>\n",
       "    <tr>\n",
       "      <th>lesion_3</th>\n",
       "      <td>0.047101</td>\n",
       "      <td>0.196089</td>\n",
       "      <td>-0.020950</td>\n",
       "      <td>0.033901</td>\n",
       "      <td>0.102606</td>\n",
       "      <td>0.147197</td>\n",
       "      <td>-0.027429</td>\n",
       "      <td>-0.025341</td>\n",
       "      <td>0.000653</td>\n",
       "      <td>-0.032684</td>\n",
       "      <td>...</td>\n",
       "      <td>-0.035178</td>\n",
       "      <td>-0.058657</td>\n",
       "      <td>0.069645</td>\n",
       "      <td>-0.109239</td>\n",
       "      <td>-0.063134</td>\n",
       "      <td>0.044631</td>\n",
       "      <td>0.043876</td>\n",
       "      <td>0.005850</td>\n",
       "      <td>0.269374</td>\n",
       "      <td>1.000000</td>\n",
       "    </tr>\n",
       "  </tbody>\n",
       "</table>\n",
       "<p>26 rows × 26 columns</p>\n",
       "</div>"
      ],
      "text/plain": [
       "                        surgery       age  hospital_number  rectal_temp  \\\n",
       "surgery                1.000000  0.089319         0.126044    -0.044371   \n",
       "age                    0.089319  1.000000         0.697331     0.190688   \n",
       "hospital_number        0.126044  0.697331         1.000000     0.144806   \n",
       "rectal_temp           -0.044371  0.190688         0.144806     1.000000   \n",
       "pulse                  0.165745  0.492692         0.310237     0.191953   \n",
       "respiratory_rate       0.170552  0.368429         0.245490     0.234185   \n",
       "temp_of_extremities   -0.190183 -0.014282         0.000103    -0.030654   \n",
       "peripheral_pulse       0.115915  0.027843         0.023254     0.017706   \n",
       "mucous_membrane        0.041470 -0.170800        -0.157237    -0.173840   \n",
       "capillary_refill_time  0.079588 -0.030065         0.025368     0.107125   \n",
       "pain                   0.228871  0.058242         0.120780    -0.110190   \n",
       "peristalsis           -0.061546  0.021008         0.065362    -0.054802   \n",
       "abdominal_distention  -0.150197 -0.038430        -0.080212    -0.029709   \n",
       "nasogastric_tube       0.066982  0.018020        -0.032929    -0.046764   \n",
       "nasogastric_reflux    -0.083910  0.085657         0.042219    -0.032279   \n",
       "rectal_exam_feces     -0.171611  0.003506        -0.006083    -0.017243   \n",
       "abdomen               -0.297202 -0.111078        -0.155145     0.005561   \n",
       "packed_cell_volume     0.029030 -0.124240        -0.098728     0.056520   \n",
       "total_protein          0.031630 -0.104989        -0.215517    -0.030728   \n",
       "abdomo_appearance      0.139274 -0.054823        -0.107999    -0.079529   \n",
       "abdomo_protein         0.029151 -0.034036        -0.053040     0.003825   \n",
       "outcome               -0.189222 -0.101782        -0.106396     0.040551   \n",
       "surgical_lesion        0.605023  0.044734         0.102425    -0.036839   \n",
       "lesion_1               0.163940  0.022870         0.145397     0.040822   \n",
       "lesion_2               0.098594  0.017781        -0.050433    -0.055494   \n",
       "lesion_3               0.047101  0.196089        -0.020950     0.033901   \n",
       "\n",
       "                          pulse  respiratory_rate  temp_of_extremities  \\\n",
       "surgery                0.165745          0.170552            -0.190183   \n",
       "age                    0.492692          0.368429            -0.014282   \n",
       "hospital_number        0.310237          0.245490             0.000103   \n",
       "rectal_temp            0.191953          0.234185            -0.030654   \n",
       "pulse                  1.000000          0.430719            -0.254576   \n",
       "respiratory_rate       0.430719          1.000000            -0.030480   \n",
       "temp_of_extremities   -0.254576         -0.030480             1.000000   \n",
       "peripheral_pulse       0.243200          0.121191            -0.193530   \n",
       "mucous_membrane       -0.062074         -0.088256            -0.089494   \n",
       "capillary_refill_time  0.378847          0.069983            -0.257690   \n",
       "pain                   0.101678          0.084609            -0.188108   \n",
       "peristalsis           -0.277590         -0.041483             0.194146   \n",
       "abdominal_distention  -0.076590         -0.047748             0.043866   \n",
       "nasogastric_tube      -0.030277         -0.023290            -0.058958   \n",
       "nasogastric_reflux    -0.117176         -0.167148             0.077912   \n",
       "rectal_exam_feces     -0.169766          0.007713             0.269007   \n",
       "abdomen               -0.183437         -0.148288             0.169069   \n",
       "packed_cell_volume     0.362897          0.059168            -0.270435   \n",
       "total_protein         -0.062850         -0.081669             0.053845   \n",
       "abdomo_appearance      0.239796          0.077674            -0.236222   \n",
       "abdomo_protein         0.080429         -0.040418            -0.079070   \n",
       "outcome               -0.311773         -0.057938             0.290367   \n",
       "surgical_lesion        0.236421          0.179689            -0.226318   \n",
       "lesion_1               0.064901          0.133732             0.025731   \n",
       "lesion_2               0.007679         -0.002598             0.026258   \n",
       "lesion_3               0.102606          0.147197            -0.027429   \n",
       "\n",
       "                       peripheral_pulse  mucous_membrane  \\\n",
       "surgery                        0.115915         0.041470   \n",
       "age                            0.027843        -0.170800   \n",
       "hospital_number                0.023254        -0.157237   \n",
       "rectal_temp                    0.017706        -0.173840   \n",
       "pulse                          0.243200        -0.062074   \n",
       "respiratory_rate               0.121191        -0.088256   \n",
       "temp_of_extremities           -0.193530        -0.089494   \n",
       "peripheral_pulse               1.000000         0.080396   \n",
       "mucous_membrane                0.080396         1.000000   \n",
       "capillary_refill_time          0.226861        -0.058657   \n",
       "pain                           0.062531         0.154351   \n",
       "peristalsis                   -0.224845        -0.173991   \n",
       "abdominal_distention          -0.133792        -0.007055   \n",
       "nasogastric_tube              -0.067478         0.064263   \n",
       "nasogastric_reflux            -0.227529        -0.039029   \n",
       "rectal_exam_feces             -0.132625        -0.028594   \n",
       "abdomen                       -0.121833         0.017558   \n",
       "packed_cell_volume             0.259239        -0.128259   \n",
       "total_protein                 -0.022800        -0.012081   \n",
       "abdomo_appearance              0.164539         0.067207   \n",
       "abdomo_protein                 0.101571        -0.004078   \n",
       "outcome                       -0.165719         0.056852   \n",
       "surgical_lesion                0.165077         0.075724   \n",
       "lesion_1                       0.128019         0.074783   \n",
       "lesion_2                       0.001640         0.028010   \n",
       "lesion_3                      -0.025341         0.000653   \n",
       "\n",
       "                       capillary_refill_time    ...      abdomen  \\\n",
       "surgery                             0.079588    ...    -0.297202   \n",
       "age                                -0.030065    ...    -0.111078   \n",
       "hospital_number                     0.025368    ...    -0.155145   \n",
       "rectal_temp                         0.107125    ...     0.005561   \n",
       "pulse                               0.378847    ...    -0.183437   \n",
       "respiratory_rate                    0.069983    ...    -0.148288   \n",
       "temp_of_extremities                -0.257690    ...     0.169069   \n",
       "peripheral_pulse                    0.226861    ...    -0.121833   \n",
       "mucous_membrane                    -0.058657    ...     0.017558   \n",
       "capillary_refill_time               1.000000    ...    -0.142492   \n",
       "pain                                0.059026    ...    -0.296097   \n",
       "peristalsis                        -0.235108    ...     0.108243   \n",
       "abdominal_distention                0.034186    ...     0.114305   \n",
       "nasogastric_tube                   -0.026733    ...     0.060445   \n",
       "nasogastric_reflux                 -0.166372    ...     0.071811   \n",
       "rectal_exam_feces                  -0.172442    ...     0.237937   \n",
       "abdomen                            -0.142492    ...     1.000000   \n",
       "packed_cell_volume                  0.451013    ...    -0.011400   \n",
       "total_protein                      -0.086351    ...     0.007474   \n",
       "abdomo_appearance                   0.257890    ...    -0.068019   \n",
       "abdomo_protein                      0.082703    ...     0.038890   \n",
       "outcome                            -0.256294    ...     0.214875   \n",
       "surgical_lesion                     0.165131    ...    -0.316903   \n",
       "lesion_1                            0.052515    ...    -0.102689   \n",
       "lesion_2                            0.008490    ...    -0.084634   \n",
       "lesion_3                           -0.032684    ...    -0.035178   \n",
       "\n",
       "                       packed_cell_volume  total_protein  abdomo_appearance  \\\n",
       "surgery                          0.029030       0.031630           0.139274   \n",
       "age                             -0.124240      -0.104989          -0.054823   \n",
       "hospital_number                 -0.098728      -0.215517          -0.107999   \n",
       "rectal_temp                      0.056520      -0.030728          -0.079529   \n",
       "pulse                            0.362897      -0.062850           0.239796   \n",
       "respiratory_rate                 0.059168      -0.081669           0.077674   \n",
       "temp_of_extremities             -0.270435       0.053845          -0.236222   \n",
       "peripheral_pulse                 0.259239      -0.022800           0.164539   \n",
       "mucous_membrane                 -0.128259      -0.012081           0.067207   \n",
       "capillary_refill_time            0.451013      -0.086351           0.257890   \n",
       "pain                            -0.021248      -0.110198           0.019490   \n",
       "peristalsis                     -0.290531      -0.134788          -0.102635   \n",
       "abdominal_distention            -0.046550      -0.019836          -0.063551   \n",
       "nasogastric_tube                -0.070750      -0.052679          -0.067451   \n",
       "nasogastric_reflux              -0.305177       0.082700          -0.092504   \n",
       "rectal_exam_feces               -0.180495      -0.013056          -0.153716   \n",
       "abdomen                         -0.011400       0.007474          -0.068019   \n",
       "packed_cell_volume               1.000000      -0.005476           0.217919   \n",
       "total_protein                   -0.005476       1.000000          -0.082836   \n",
       "abdomo_appearance                0.217919      -0.082836           1.000000   \n",
       "abdomo_protein                   0.109192      -0.236439           0.052257   \n",
       "outcome                         -0.369554       0.266737          -0.243140   \n",
       "surgical_lesion                  0.160686      -0.124866           0.242593   \n",
       "lesion_1                        -0.054508      -0.168682          -0.022225   \n",
       "lesion_2                        -0.062560       0.228945          -0.072233   \n",
       "lesion_3                        -0.058657       0.069645          -0.109239   \n",
       "\n",
       "                       abdomo_protein   outcome  surgical_lesion  lesion_1  \\\n",
       "surgery                      0.029151 -0.189222         0.605023  0.163940   \n",
       "age                         -0.034036 -0.101782         0.044734  0.022870   \n",
       "hospital_number             -0.053040 -0.106396         0.102425  0.145397   \n",
       "rectal_temp                  0.003825  0.040551        -0.036839  0.040822   \n",
       "pulse                        0.080429 -0.311773         0.236421  0.064901   \n",
       "respiratory_rate            -0.040418 -0.057938         0.179689  0.133732   \n",
       "temp_of_extremities         -0.079070  0.290367        -0.226318  0.025731   \n",
       "peripheral_pulse             0.101571 -0.165719         0.165077  0.128019   \n",
       "mucous_membrane             -0.004078  0.056852         0.075724  0.074783   \n",
       "capillary_refill_time        0.082703 -0.256294         0.165131  0.052515   \n",
       "pain                        -0.030119 -0.161964         0.276427  0.083558   \n",
       "peristalsis                 -0.027804  0.165844        -0.148574 -0.043938   \n",
       "abdominal_distention         0.013995  0.112309        -0.149064 -0.018373   \n",
       "nasogastric_tube             0.017278  0.049156         0.023299  0.006073   \n",
       "nasogastric_reflux          -0.041988  0.181422        -0.211128 -0.095119   \n",
       "rectal_exam_feces            0.058271  0.193004        -0.199348 -0.046853   \n",
       "abdomen                      0.038890  0.214875        -0.316903 -0.102689   \n",
       "packed_cell_volume           0.109192 -0.369554         0.160686 -0.054508   \n",
       "total_protein               -0.236439  0.266737        -0.124866 -0.168682   \n",
       "abdomo_appearance            0.052257 -0.243140         0.242593 -0.022225   \n",
       "abdomo_protein               1.000000 -0.135177         0.063210 -0.031927   \n",
       "outcome                     -0.135177  1.000000        -0.332933 -0.100738   \n",
       "surgical_lesion              0.063210 -0.332933         1.000000  0.252655   \n",
       "lesion_1                    -0.031927 -0.100738         0.252655  1.000000   \n",
       "lesion_2                    -0.077782  0.098993         0.090586  0.005966   \n",
       "lesion_3                    -0.063134  0.044631         0.043876  0.005850   \n",
       "\n",
       "                       lesion_2  lesion_3  \n",
       "surgery                0.098594  0.047101  \n",
       "age                    0.017781  0.196089  \n",
       "hospital_number       -0.050433 -0.020950  \n",
       "rectal_temp           -0.055494  0.033901  \n",
       "pulse                  0.007679  0.102606  \n",
       "respiratory_rate      -0.002598  0.147197  \n",
       "temp_of_extremities    0.026258 -0.027429  \n",
       "peripheral_pulse       0.001640 -0.025341  \n",
       "mucous_membrane        0.028010  0.000653  \n",
       "capillary_refill_time  0.008490 -0.032684  \n",
       "pain                  -0.036399  0.036402  \n",
       "peristalsis           -0.017167 -0.027463  \n",
       "abdominal_distention   0.015672 -0.019067  \n",
       "nasogastric_tube       0.035838  0.037616  \n",
       "nasogastric_reflux     0.074447  0.030943  \n",
       "rectal_exam_feces     -0.042686  0.107578  \n",
       "abdomen               -0.084634 -0.035178  \n",
       "packed_cell_volume    -0.062560 -0.058657  \n",
       "total_protein          0.228945  0.069645  \n",
       "abdomo_appearance     -0.072233 -0.109239  \n",
       "abdomo_protein        -0.077782 -0.063134  \n",
       "outcome                0.098993  0.044631  \n",
       "surgical_lesion        0.090586  0.043876  \n",
       "lesion_1               0.005966  0.005850  \n",
       "lesion_2               1.000000  0.269374  \n",
       "lesion_3               0.269374  1.000000  \n",
       "\n",
       "[26 rows x 26 columns]"
      ]
     },
     "execution_count": 123,
     "metadata": {},
     "output_type": "execute_result"
    }
   ],
   "source": [
    "h.corr()"
   ]
  },
  {
   "cell_type": "code",
   "execution_count": 124,
   "metadata": {},
   "outputs": [
    {
     "data": {
      "text/plain": [
       "0.7"
      ]
     },
     "execution_count": 124,
     "metadata": {},
     "output_type": "execute_result"
    }
   ],
   "source": [
    "from sklearn.neighbors import KNeighborsClassifier\n",
    "modelk=KNeighborsClassifier(n_neighbors=3,metric=\"euclidean\")\n",
    "x=h[['surgery',\"pulse\",'surgical_lesion',\"packed_cell_volume\",\"temp_of_extremities\",\"peripheral_pulse\",\"total_protein\"]]\n",
    "y=h['outcome']\n",
    "X_train, X_test, y_train, y_test = train_test_split(x, y, test_size = 0.3, random_state = 10)\n",
    "modelk.fit(X_train,y_train)\n",
    "modelk.score(X_test,y_test)"
   ]
  },
  {
   "cell_type": "code",
   "execution_count": 125,
   "metadata": {},
   "outputs": [],
   "source": [
    "\n",
    "p=pd.DataFrame(modelk.predict(X_test))"
   ]
  },
  {
   "cell_type": "code",
   "execution_count": 126,
   "metadata": {},
   "outputs": [],
   "source": [
    "p[\"org\"]=h[\"outcome\"]"
   ]
  },
  {
   "cell_type": "code",
   "execution_count": null,
   "metadata": {},
   "outputs": [],
   "source": []
  },
  {
   "cell_type": "code",
   "execution_count": null,
   "metadata": {},
   "outputs": [],
   "source": []
  },
  {
   "cell_type": "code",
   "execution_count": 127,
   "metadata": {},
   "outputs": [
    {
     "data": {
      "text/html": [
       "<div>\n",
       "<style scoped>\n",
       "    .dataframe tbody tr th:only-of-type {\n",
       "        vertical-align: middle;\n",
       "    }\n",
       "\n",
       "    .dataframe tbody tr th {\n",
       "        vertical-align: top;\n",
       "    }\n",
       "\n",
       "    .dataframe thead th {\n",
       "        text-align: right;\n",
       "    }\n",
       "</style>\n",
       "<table border=\"1\" class=\"dataframe\">\n",
       "  <thead>\n",
       "    <tr style=\"text-align: right;\">\n",
       "      <th></th>\n",
       "      <th>0</th>\n",
       "      <th>org</th>\n",
       "    </tr>\n",
       "  </thead>\n",
       "  <tbody>\n",
       "    <tr>\n",
       "      <th>0</th>\n",
       "      <td>2</td>\n",
       "      <td>0</td>\n",
       "    </tr>\n",
       "    <tr>\n",
       "      <th>1</th>\n",
       "      <td>0</td>\n",
       "      <td>1</td>\n",
       "    </tr>\n",
       "    <tr>\n",
       "      <th>2</th>\n",
       "      <td>2</td>\n",
       "      <td>2</td>\n",
       "    </tr>\n",
       "    <tr>\n",
       "      <th>3</th>\n",
       "      <td>0</td>\n",
       "      <td>0</td>\n",
       "    </tr>\n",
       "    <tr>\n",
       "      <th>4</th>\n",
       "      <td>0</td>\n",
       "      <td>0</td>\n",
       "    </tr>\n",
       "    <tr>\n",
       "      <th>5</th>\n",
       "      <td>2</td>\n",
       "      <td>2</td>\n",
       "    </tr>\n",
       "    <tr>\n",
       "      <th>6</th>\n",
       "      <td>2</td>\n",
       "      <td>2</td>\n",
       "    </tr>\n",
       "    <tr>\n",
       "      <th>7</th>\n",
       "      <td>2</td>\n",
       "      <td>0</td>\n",
       "    </tr>\n",
       "    <tr>\n",
       "      <th>8</th>\n",
       "      <td>1</td>\n",
       "      <td>1</td>\n",
       "    </tr>\n",
       "    <tr>\n",
       "      <th>9</th>\n",
       "      <td>0</td>\n",
       "      <td>2</td>\n",
       "    </tr>\n",
       "  </tbody>\n",
       "</table>\n",
       "</div>"
      ],
      "text/plain": [
       "   0  org\n",
       "0  2    0\n",
       "1  0    1\n",
       "2  2    2\n",
       "3  0    0\n",
       "4  0    0\n",
       "5  2    2\n",
       "6  2    2\n",
       "7  2    0\n",
       "8  1    1\n",
       "9  0    2"
      ]
     },
     "execution_count": 127,
     "metadata": {},
     "output_type": "execute_result"
    }
   ],
   "source": [
    "p.head(10)"
   ]
  },
  {
   "cell_type": "code",
   "execution_count": 128,
   "metadata": {},
   "outputs": [
    {
     "name": "stdout",
     "output_type": "stream",
     "text": [
      "[0 1 2]\n"
     ]
    },
    {
     "data": {
      "text/plain": [
       "<matplotlib.axes._subplots.AxesSubplot at 0x1c93573e128>"
      ]
     },
     "execution_count": 128,
     "metadata": {},
     "output_type": "execute_result"
    },
    {
     "data": {
      "image/png": "[encoded data removed]",
      "text/plain": [
       "<Figure size 432x288 with 1 Axes>"
      ]
     },
     "metadata": {
      "needs_background": "light"
     },
     "output_type": "display_data"
    }
   ],
   "source": [
    "import numpy as np\n",
    "labels = p[0]\n",
    "print(np.unique(labels.values))\n",
    "\n",
    "from matplotlib import pyplot as plot\n",
    "%matplotlib inline\n",
    "fig, ax = plot.subplots()\n",
    "(labels.value_counts()).plot(ax=ax, kind='bar')"
   ]
  },
  {
   "cell_type": "code",
   "execution_count": 129,
   "metadata": {},
   "outputs": [
    {
     "name": "stdout",
     "output_type": "stream",
     "text": [
      "[0 1 2]\n"
     ]
    },
    {
     "data": {
      "text/plain": [
       "<matplotlib.axes._subplots.AxesSubplot at 0x1c934245a58>"
      ]
     },
     "execution_count": 129,
     "metadata": {},
     "output_type": "execute_result"
    },
    {
     "data": {
      "image/png": "[encoded data removed]",
      "text/plain": [
       "<Figure size 432x288 with 1 Axes>"
      ]
     },
     "metadata": {
      "needs_background": "light"
     },
     "output_type": "display_data"
    }
   ],
   "source": [
    "import numpy as np\n",
    "labels = p[\"org\"]\n",
    "print(np.unique(labels.values))\n",
    "\n",
    "from matplotlib import pyplot as plot\n",
    "%matplotlib inline\n",
    "fig, ax = plot.subplots()\n",
    "(labels.value_counts()).plot(ax=ax, kind='bar')"
   ]
  },
  {
   "cell_type": "markdown",
   "metadata": {},
   "source": [
    "##PCA"
   ]
  },
  {
   "cell_type": "code",
   "execution_count": 130,
   "metadata": {},
   "outputs": [
    {
     "data": {
      "text/plain": [
       "array([811.53312923, 685.47488139,  89.23350754])"
      ]
     },
     "execution_count": 130,
     "metadata": {},
     "output_type": "execute_result"
    }
   ],
   "source": [
    "from sklearn.decomposition import PCA\n",
    "pca=PCA(n_components=3)\n",
    "trainnX=pca.fit_transform(X_train)\n",
    "testnX=pca.transform(X_test)\n",
    "\n",
    "pca.explained_variance_"
   ]
  },
  {
   "cell_type": "code",
   "execution_count": 131,
   "metadata": {},
   "outputs": [
    {
     "name": "stderr",
     "output_type": "stream",
     "text": [
      "C:\\Anaconda3\\lib\\site-packages\\sklearn\\svm\\base.py:196: FutureWarning: The default value of gamma will change from 'auto' to 'scale' in version 0.22 to account better for unscaled features. Set gamma explicitly to 'auto' or 'scale' to avoid this warning.\n",
      "  \"avoid this warning.\", FutureWarning)\n"
     ]
    },
    {
     "data": {
      "text/plain": [
       "0.6555555555555556"
      ]
     },
     "execution_count": 131,
     "metadata": {},
     "output_type": "execute_result"
    }
   ],
   "source": [
    "from sklearn.svm import SVC\n",
    "modsvm=SVC(kernel=\"rbf\")\n",
    "\n",
    "modsvm.fit(trainnX,y_train)\n",
    "modsvm.score(testnX,y_test)"
   ]
  },
  {
   "cell_type": "code",
   "execution_count": 132,
   "metadata": {},
   "outputs": [
    {
     "data": {
      "text/plain": [
       "0.6555555555555556"
      ]
     },
     "execution_count": 132,
     "metadata": {},
     "output_type": "execute_result"
    }
   ],
   "source": [
    "from sklearn.tree import DecisionTreeClassifier\n",
    "\n",
    "desc=DecisionTreeClassifier(min_samples_split=10,min_impurity_decrease=0.005)\n",
    "\n",
    "desc.fit(trainnX,y_train)\n",
    "desc.score(testnX,y_test)"
   ]
  },
  {
   "cell_type": "code",
   "execution_count": 133,
   "metadata": {},
   "outputs": [
    {
     "data": {
      "text/plain": [
       "0.6777777777777778"
      ]
     },
     "execution_count": 133,
     "metadata": {},
     "output_type": "execute_result"
    }
   ],
   "source": [
    "from sklearn.neighbors import KNeighborsClassifier\n",
    "modelk=KNeighborsClassifier(n_neighbors=3,metric=\"euclidean\")\n",
    "modelk.fit(trainnX,y_train)\n",
    "modelk.score(testnX,y_test)"
   ]
  },
  {
   "cell_type": "markdown",
   "metadata": {},
   "source": [
    "LDA\n"
   ]
  },
  {
   "cell_type": "code",
   "execution_count": 134,
   "metadata": {},
   "outputs": [],
   "source": [
    "from sklearn.discriminant_analysis import LinearDiscriminantAnalysis as LDA\n",
    "lda=LDA(n_components=3)\n",
    "trainnx=lda.fit_transform(X_train,y_train)\n",
    "testnx=lda.transform(X_test)\n"
   ]
  },
  {
   "cell_type": "code",
   "execution_count": 135,
   "metadata": {},
   "outputs": [
    {
     "data": {
      "text/plain": [
       "0.6555555555555556"
      ]
     },
     "execution_count": 135,
     "metadata": {},
     "output_type": "execute_result"
    }
   ],
   "source": [
    "dec=DecisionTreeClassifier()\n",
    "model=dec.fit(trainnx,y_train)\n",
    "model.score(testnx,y_test)"
   ]
  },
  {
   "cell_type": "code",
   "execution_count": 136,
   "metadata": {},
   "outputs": [
    {
     "name": "stderr",
     "output_type": "stream",
     "text": [
      "C:\\Anaconda3\\lib\\site-packages\\sklearn\\svm\\base.py:196: FutureWarning: The default value of gamma will change from 'auto' to 'scale' in version 0.22 to account better for unscaled features. Set gamma explicitly to 'auto' or 'scale' to avoid this warning.\n",
      "  \"avoid this warning.\", FutureWarning)\n"
     ]
    },
    {
     "data": {
      "text/plain": [
       "0.7111111111111111"
      ]
     },
     "execution_count": 136,
     "metadata": {},
     "output_type": "execute_result"
    }
   ],
   "source": [
    "from sklearn.svm import SVC\n",
    "modsvm=SVC(kernel=\"rbf\")\n",
    "\n",
    "modsvm.fit(trainnx,y_train)\n",
    "modsvm.score(testnx,y_test)"
   ]
  },
  {
   "cell_type": "code",
   "execution_count": 137,
   "metadata": {},
   "outputs": [
    {
     "data": {
      "text/plain": [
       "0.6444444444444445"
      ]
     },
     "execution_count": 137,
     "metadata": {},
     "output_type": "execute_result"
    }
   ],
   "source": [
    "from sklearn.neighbors import KNeighborsClassifier\n",
    "modelk=KNeighborsClassifier(n_neighbors=3,metric=\"euclidean\")\n",
    "modelk.fit(trainnx,y_train)\n",
    "modelk.score(testnx,y_test)"
   ]
  },
  {
   "cell_type": "code",
   "execution_count": 138,
   "metadata": {},
   "outputs": [
    {
     "name": "stderr",
     "output_type": "stream",
     "text": [
      "C:\\Anaconda3\\lib\\site-packages\\seaborn\\axisgrid.py:2065: UserWarning: The `size` parameter has been renamed to `height`; pleaes update your code.\n",
      "  warnings.warn(msg, UserWarning)\n"
     ]
    },
    {
     "data": {
      "text/plain": [
       "<seaborn.axisgrid.PairGrid at 0x1c936c03358>"
      ]
     },
     "execution_count": 138,
     "metadata": {},
     "output_type": "execute_result"
    },
    {
     "data": {
      "image/png": "[encoded data removed]",
      "text/plain": [
       "<Figure size 2016x2016 with 56 Axes>"
      ]
     },
     "metadata": {
      "needs_background": "light"
     },
     "output_type": "display_data"
    }
   ],
   "source": [
    "sns.pairplot(h[['surgery',\"pulse\",'surgical_lesion',\"packed_cell_volume\",\"temp_of_extremities\",\"peripheral_pulse\",\"total_protein\"]],size=4)"
   ]
  },
  {
   "cell_type": "code",
   "execution_count": 144,
   "metadata": {},
   "outputs": [
    {
     "name": "stderr",
     "output_type": "stream",
     "text": [
      "C:\\Anaconda3\\lib\\site-packages\\seaborn\\axisgrid.py:2065: UserWarning: The `size` parameter has been renamed to `height`; pleaes update your code.\n",
      "  warnings.warn(msg, UserWarning)\n"
     ]
    },
    {
     "data": {
      "text/plain": [
       "<seaborn.axisgrid.PairGrid at 0x1c939fefe10>"
      ]
     },
     "execution_count": 144,
     "metadata": {},
     "output_type": "execute_result"
    },
    {
     "data": {
      "image/png": "[encoded data removed]",
      "text/plain": [
       "<Figure size 288x288 with 1 Axes>"
      ]
     },
     "metadata": {
      "needs_background": "light"
     },
     "output_type": "display_data"
    }
   ],
   "source": [
    "sns.pairplot(h,x_vars=\"packed_cell_volume\",y_vars=\"total_protein\",size=4)\n"
   ]
  },
  {
   "cell_type": "code",
   "execution_count": 145,
   "metadata": {},
   "outputs": [
    {
     "name": "stderr",
     "output_type": "stream",
     "text": [
      "C:\\Anaconda3\\lib\\site-packages\\seaborn\\axisgrid.py:2065: UserWarning: The `size` parameter has been renamed to `height`; pleaes update your code.\n",
      "  warnings.warn(msg, UserWarning)\n"
     ]
    },
    {
     "data": {
      "text/plain": [
       "<seaborn.axisgrid.PairGrid at 0x1c93b016b38>"
      ]
     },
     "execution_count": 145,
     "metadata": {},
     "output_type": "execute_result"
    },
    {
     "data": {
      "image/png": "[encoded data removed]",
      "text/plain": [
       "<Figure size 288x288 with 1 Axes>"
      ]
     },
     "metadata": {
      "needs_background": "light"
     },
     "output_type": "display_data"
    }
   ],
   "source": [
    "sns.pairplot(h,y_vars=\"total_protein\",x_vars=\"pulse\",size=4)\n"
   ]
  },
  {
   "cell_type": "code",
   "execution_count": 140,
   "metadata": {},
   "outputs": [
    {
     "name": "stderr",
     "output_type": "stream",
     "text": [
      "C:\\Anaconda3\\lib\\site-packages\\seaborn\\axisgrid.py:2065: UserWarning: The `size` parameter has been renamed to `height`; pleaes update your code.\n",
      "  warnings.warn(msg, UserWarning)\n"
     ]
    },
    {
     "data": {
      "text/plain": [
       "<seaborn.axisgrid.PairGrid at 0x1c938e7d630>"
      ]
     },
     "execution_count": 140,
     "metadata": {},
     "output_type": "execute_result"
    },
    {
     "data": {
      "image/png": "[encoded data removed]",
      "text/plain": [
       "<Figure size 288x288 with 1 Axes>"
      ]
     },
     "metadata": {
      "needs_background": "light"
     },
     "output_type": "display_data"
    }
   ],
   "source": [
    "sns.pairplot(h,x_vars=\"packed_cell_volume\",y_vars=\"pulse\",size=4)\n"
   ]
  },
  {
   "cell_type": "code",
   "execution_count": 153,
   "metadata": {},
   "outputs": [
    {
     "name": "stderr",
     "output_type": "stream",
     "text": [
      "C:\\Anaconda3\\lib\\site-packages\\seaborn\\axisgrid.py:2065: UserWarning: The `size` parameter has been renamed to `height`; pleaes update your code.\n",
      "  warnings.warn(msg, UserWarning)\n"
     ]
    },
    {
     "data": {
      "text/plain": [
       "<seaborn.axisgrid.PairGrid at 0x1c93ed4fcf8>"
      ]
     },
     "execution_count": 153,
     "metadata": {},
     "output_type": "execute_result"
    },
    {
     "data": {
      "image/png": "[encoded data removed]",
      "text/plain": [
       "<Figure size 576x576 with 1 Axes>"
      ]
     },
     "metadata": {
      "needs_background": "light"
     },
     "output_type": "display_data"
    }
   ],
   "source": [
    "sns.pairplot(h,x_vars=\"total_protein\",y_vars=\"pulse\",size=8)"
   ]
  },
  {
   "cell_type": "code",
   "execution_count": null,
   "metadata": {},
   "outputs": [],
   "source": []
  }
 ],
 "metadata": {
  "kernelspec": {
   "display_name": "Python 3",
   "language": "python",
   "name": "python3"
  },
  "language_info": {
   "codemirror_mode": {
    "name": "ipython",
    "version": 3
   },
   "file_extension": ".py",
   "mimetype": "text/x-python",
   "name": "python",
   "nbconvert_exporter": "python",
   "pygments_lexer": "ipython3",
   "version": "3.7.1"
  }
 },
 "nbformat": 4,
 "nbformat_minor": 2
}
